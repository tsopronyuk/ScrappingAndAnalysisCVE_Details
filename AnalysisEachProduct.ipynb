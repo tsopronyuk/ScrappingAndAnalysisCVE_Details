{
 "cells": [
  {
   "cell_type": "markdown",
   "metadata": {},
   "source": [
    "# Descriptive Statistics For \"CVE Details\" Site --- Each Project ID - Vendor ID"
   ]
  },
  {
   "cell_type": "markdown",
   "metadata": {},
   "source": [
    "## Parts of the work\n",
    "### 1) run script eachFromGeneral.py for the creating data for each products and all years in the range 1999-2019. This script creates many xslx-files in the folder 'EachProducts': 31_5_for_Analysis.xlsx, 36_23_for_Analysis.xlsx, ...  for each products during all years. "
   ]
  },
  {
   "cell_type": "markdown",
   "metadata": {},
   "source": [
    " \n",
    " ### 2) run this jupyter notebook for the analysis. The file All_Data_for_Analysis.xlsx from previous milestone is the input file.\n"
   ]
  },
  {
   "cell_type": "markdown",
   "metadata": {},
   "source": [
    "## Import modules"
   ]
  },
  {
   "cell_type": "code",
   "execution_count": 87,
   "metadata": {
    "collapsed": true
   },
   "outputs": [],
   "source": [
    "# -*- coding: utf-8 -*-\n",
    "%matplotlib inline\n",
    "import pandas as pd\n",
    "import numpy as np\n",
    "from pandas import ExcelWriter\n",
    "import matplotlib.pyplot as plt\n",
    "import matplotlib.ticker as mtick"
   ]
  },
  {
   "cell_type": "markdown",
   "metadata": {},
   "source": [
    "## Read data and create dataframe "
   ]
  },
  {
   "cell_type": "code",
   "execution_count": 88,
   "metadata": {
    "collapsed": false
   },
   "outputs": [
    {
     "name": "stdout",
     "output_type": "stream",
     "text": [
      "11828\n"
     ]
    }
   ],
   "source": [
    "all=pd.read_excel('All_Data_for_Analysis.xlsx', \"CVE Details\")\n",
    "print(len(all.index))"
   ]
  },
  {
   "cell_type": "markdown",
   "metadata": {},
   "source": [
    "## Select  productId_venderId"
   ]
  },
  {
   "cell_type": "markdown",
   "metadata": {},
   "source": [
    "    Number\tProduct\t\t     Product ID\tVendor ID\n",
    "    1\tDebian Linux Debian      36\t    23\n",
    "    2\tLinux Kernel Linux\t     47\t    33\n",
    "    4\tMac Os X Apple\t         156\t49\n",
    "    8\tUbuntu Linux Canonical\t 20550\t4781\n",
    "    12\tWindows 7 Microsoft\t     17153\t26\n",
    "    15\tOpensuse Opensuse\t     14195\t8184\n",
    "    17\tWindows Vista Microsoft\t 9591\t26\n",
    "    22\tWindows 10 Microsoft\t 32238\t26\n",
    "    23\tWindows Xp Microsoft\t 739\t26\n",
    "    25\tWindows 8.1 Microsoft\t 26434\t26\n",
    "    28\tMac Os X Server Apple\t 2274\t49\n",
    "    34\tEnterprise Linux Redhat\t 78\t    25\n",
    "    43\tWindows 2000 Microsoft\t 107\t26\n",
    "    48\tSolaris\tSUN\t             31\t    5"
   ]
  },
  {
   "cell_type": "code",
   "execution_count": 240,
   "metadata": {
    "collapsed": false
   },
   "outputs": [],
   "source": [
    "import ipywidgets as widgets\n",
    "products=[ '47_33', '156_49', '20550_4781', '17153_26', \n",
    "          '14195_8184','9591_26','32238_26','739_26','26434_26', \n",
    "          '2274_49', '78_25','107_26','31_5', '36_23']\n",
    "prod = widgets.Dropdown(options=products, value='47_33', disabled=False)\n",
    "prod"
   ]
  },
  {
   "cell_type": "code",
   "execution_count": 241,
   "metadata": {
    "collapsed": false
   },
   "outputs": [
    {
     "data": {
      "text/plain": [
       "'47_33'"
      ]
     },
     "execution_count": 241,
     "metadata": {},
     "output_type": "execute_result"
    }
   ],
   "source": [
    "prod.value"
   ]
  },
  {
   "cell_type": "markdown",
   "metadata": {},
   "source": [
    "## Extract data for selected value"
   ]
  },
  {
   "cell_type": "code",
   "execution_count": 242,
   "metadata": {
    "collapsed": true
   },
   "outputs": [],
   "source": [
    "df=all[all.product_vender==prod.value]"
   ]
  },
  {
   "cell_type": "markdown",
   "metadata": {},
   "source": [
    "## Descriptive Statistics"
   ]
  },
  {
   "cell_type": "code",
   "execution_count": 243,
   "metadata": {
    "collapsed": false
   },
   "outputs": [
    {
     "name": "stdout",
     "output_type": "stream",
     "text": [
      "2124\n"
     ]
    },
    {
     "data": {
      "text/html": [
       "<div>\n",
       "<table border=\"1\" class=\"dataframe\">\n",
       "  <thead>\n",
       "    <tr style=\"text-align: right;\">\n",
       "      <th></th>\n",
       "      <th>CVE ID Number</th>\n",
       "      <th>Publish Date</th>\n",
       "      <th>Update Date</th>\n",
       "      <th>Software Type</th>\n",
       "      <th>Vendor</th>\n",
       "      <th>Product</th>\n",
       "      <th>Version</th>\n",
       "      <th>CVSS Score</th>\n",
       "      <th>Confidentiality Impact</th>\n",
       "      <th>Integrity Impact</th>\n",
       "      <th>...</th>\n",
       "      <th>Access Complexity</th>\n",
       "      <th>Authentication</th>\n",
       "      <th>Gained Access</th>\n",
       "      <th>Vulnerability Type</th>\n",
       "      <th>Summary Text</th>\n",
       "      <th>filename</th>\n",
       "      <th>product_vender</th>\n",
       "      <th>days</th>\n",
       "      <th>score level</th>\n",
       "      <th>year</th>\n",
       "    </tr>\n",
       "  </thead>\n",
       "  <tbody>\n",
       "    <tr>\n",
       "      <th>24</th>\n",
       "      <td>CVE-1999-0656</td>\n",
       "      <td>1999-01-01</td>\n",
       "      <td>2017-07-10</td>\n",
       "      <td>OS</td>\n",
       "      <td>Linux</td>\n",
       "      <td>Linux Kernel</td>\n",
       "      <td>NaN</td>\n",
       "      <td>5.0</td>\n",
       "      <td>Partial</td>\n",
       "      <td>None</td>\n",
       "      <td>...</td>\n",
       "      <td>Low</td>\n",
       "      <td>Not required</td>\n",
       "      <td>None</td>\n",
       "      <td>NaN</td>\n",
       "      <td>\\tThe ugidd RPC interface, by design, allows r...</td>\n",
       "      <td>1999_47_33.xlsx</td>\n",
       "      <td>47_33</td>\n",
       "      <td>6766</td>\n",
       "      <td>medium</td>\n",
       "      <td>1999</td>\n",
       "    </tr>\n",
       "    <tr>\n",
       "      <th>25</th>\n",
       "      <td>CVE-1999-0401</td>\n",
       "      <td>1999-01-01</td>\n",
       "      <td>2008-09-09</td>\n",
       "      <td>OS</td>\n",
       "      <td>Linux</td>\n",
       "      <td>Linux Kernel</td>\n",
       "      <td>2.2.1</td>\n",
       "      <td>3.7</td>\n",
       "      <td>Partial</td>\n",
       "      <td>Partial</td>\n",
       "      <td>...</td>\n",
       "      <td>High</td>\n",
       "      <td>Not required</td>\n",
       "      <td>User</td>\n",
       "      <td>NaN</td>\n",
       "      <td>\\tA race condition in Linux 2.2.1 allows local...</td>\n",
       "      <td>1999_47_33.xlsx</td>\n",
       "      <td>47_33</td>\n",
       "      <td>3540</td>\n",
       "      <td>low</td>\n",
       "      <td>1999</td>\n",
       "    </tr>\n",
       "    <tr>\n",
       "      <th>26</th>\n",
       "      <td>CVE-1999-0451</td>\n",
       "      <td>1999-01-19</td>\n",
       "      <td>2008-09-05</td>\n",
       "      <td>OS</td>\n",
       "      <td>Linux</td>\n",
       "      <td>Linux Kernel</td>\n",
       "      <td>2.2.0</td>\n",
       "      <td>2.1</td>\n",
       "      <td>None</td>\n",
       "      <td>None</td>\n",
       "      <td>...</td>\n",
       "      <td>Low</td>\n",
       "      <td>Not required</td>\n",
       "      <td>None</td>\n",
       "      <td>Denial Of Service</td>\n",
       "      <td>\\tDenial of service in Linux 2.0.36 allows loc...</td>\n",
       "      <td>1999_47_33.xlsx</td>\n",
       "      <td>47_33</td>\n",
       "      <td>3518</td>\n",
       "      <td>low</td>\n",
       "      <td>1999</td>\n",
       "    </tr>\n",
       "    <tr>\n",
       "      <th>27</th>\n",
       "      <td>CVE-1999-0400</td>\n",
       "      <td>1999-01-26</td>\n",
       "      <td>2008-09-05</td>\n",
       "      <td>OS</td>\n",
       "      <td>Linux</td>\n",
       "      <td>Linux Kernel</td>\n",
       "      <td>2.2.0</td>\n",
       "      <td>4.6</td>\n",
       "      <td>Partial</td>\n",
       "      <td>Partial</td>\n",
       "      <td>...</td>\n",
       "      <td>Low</td>\n",
       "      <td>Not required</td>\n",
       "      <td>User</td>\n",
       "      <td>Denial Of Service</td>\n",
       "      <td>\\tDenial of service in Linux 2.2.0 running the...</td>\n",
       "      <td>1999_47_33.xlsx</td>\n",
       "      <td>47_33</td>\n",
       "      <td>3511</td>\n",
       "      <td>medium</td>\n",
       "      <td>1999</td>\n",
       "    </tr>\n",
       "    <tr>\n",
       "      <th>28</th>\n",
       "      <td>CVE-1999-0461</td>\n",
       "      <td>1999-01-28</td>\n",
       "      <td>2008-09-09</td>\n",
       "      <td>OS</td>\n",
       "      <td>SGI</td>\n",
       "      <td>Irix</td>\n",
       "      <td>NaN</td>\n",
       "      <td>10.0</td>\n",
       "      <td>Complete</td>\n",
       "      <td>Complete</td>\n",
       "      <td>...</td>\n",
       "      <td>Low</td>\n",
       "      <td>Not required</td>\n",
       "      <td>Admin</td>\n",
       "      <td>NaN</td>\n",
       "      <td>\\tVersions of rpcbind including Linux, IRIX, a...</td>\n",
       "      <td>1999_47_33.xlsx</td>\n",
       "      <td>47_33</td>\n",
       "      <td>3513</td>\n",
       "      <td>high</td>\n",
       "      <td>1999</td>\n",
       "    </tr>\n",
       "  </tbody>\n",
       "</table>\n",
       "<p>5 rows × 21 columns</p>\n",
       "</div>"
      ],
      "text/plain": [
       "    CVE ID Number Publish Date Update Date Software Type Vendor       Product  \\\n",
       "24  CVE-1999-0656   1999-01-01  2017-07-10            OS  Linux  Linux Kernel   \n",
       "25  CVE-1999-0401   1999-01-01  2008-09-09            OS  Linux  Linux Kernel   \n",
       "26  CVE-1999-0451   1999-01-19  2008-09-05            OS  Linux  Linux Kernel   \n",
       "27  CVE-1999-0400   1999-01-26  2008-09-05            OS  Linux  Linux Kernel   \n",
       "28  CVE-1999-0461   1999-01-28  2008-09-09            OS    SGI          Irix   \n",
       "\n",
       "   Version  CVSS Score Confidentiality Impact Integrity Impact  ...   \\\n",
       "24     NaN         5.0                Partial             None  ...    \n",
       "25   2.2.1         3.7                Partial          Partial  ...    \n",
       "26   2.2.0         2.1                   None             None  ...    \n",
       "27   2.2.0         4.6                Partial          Partial  ...    \n",
       "28     NaN        10.0               Complete         Complete  ...    \n",
       "\n",
       "   Access Complexity Authentication Gained Access Vulnerability Type  \\\n",
       "24               Low   Not required          None                NaN   \n",
       "25              High   Not required          User                NaN   \n",
       "26               Low   Not required          None  Denial Of Service   \n",
       "27               Low   Not required          User  Denial Of Service   \n",
       "28               Low   Not required         Admin                NaN   \n",
       "\n",
       "                                         Summary Text         filename  \\\n",
       "24  \\tThe ugidd RPC interface, by design, allows r...  1999_47_33.xlsx   \n",
       "25  \\tA race condition in Linux 2.2.1 allows local...  1999_47_33.xlsx   \n",
       "26  \\tDenial of service in Linux 2.0.36 allows loc...  1999_47_33.xlsx   \n",
       "27  \\tDenial of service in Linux 2.2.0 running the...  1999_47_33.xlsx   \n",
       "28  \\tVersions of rpcbind including Linux, IRIX, a...  1999_47_33.xlsx   \n",
       "\n",
       "   product_vender  days  score level  year  \n",
       "24          47_33  6766       medium  1999  \n",
       "25          47_33  3540          low  1999  \n",
       "26          47_33  3518          low  1999  \n",
       "27          47_33  3511       medium  1999  \n",
       "28          47_33  3513         high  1999  \n",
       "\n",
       "[5 rows x 21 columns]"
      ]
     },
     "execution_count": 243,
     "metadata": {},
     "output_type": "execute_result"
    }
   ],
   "source": [
    "print(len(df.index))\n",
    "df.head()"
   ]
  },
  {
   "cell_type": "code",
   "execution_count": 244,
   "metadata": {
    "collapsed": false
   },
   "outputs": [
    {
     "data": {
      "text/html": [
       "<div>\n",
       "<table border=\"1\" class=\"dataframe\">\n",
       "  <thead>\n",
       "    <tr style=\"text-align: right;\">\n",
       "      <th></th>\n",
       "      <th>CVE ID Number</th>\n",
       "      <th>Publish Date</th>\n",
       "      <th>Update Date</th>\n",
       "      <th>Software Type</th>\n",
       "      <th>Vendor</th>\n",
       "      <th>Product</th>\n",
       "      <th>Version</th>\n",
       "      <th>CVSS Score</th>\n",
       "      <th>Confidentiality Impact</th>\n",
       "      <th>Integrity Impact</th>\n",
       "      <th>...</th>\n",
       "      <th>Access Complexity</th>\n",
       "      <th>Authentication</th>\n",
       "      <th>Gained Access</th>\n",
       "      <th>Vulnerability Type</th>\n",
       "      <th>Summary Text</th>\n",
       "      <th>filename</th>\n",
       "      <th>product_vender</th>\n",
       "      <th>days</th>\n",
       "      <th>score level</th>\n",
       "      <th>year</th>\n",
       "    </tr>\n",
       "  </thead>\n",
       "  <tbody>\n",
       "    <tr>\n",
       "      <th>10801</th>\n",
       "      <td>CVE-2018-18710</td>\n",
       "      <td>2018-10-29</td>\n",
       "      <td>2018-12-21</td>\n",
       "      <td>OS</td>\n",
       "      <td>Linux</td>\n",
       "      <td>Linux Kernel</td>\n",
       "      <td>4.19</td>\n",
       "      <td>2.1</td>\n",
       "      <td>Partial</td>\n",
       "      <td>None</td>\n",
       "      <td>...</td>\n",
       "      <td>Low</td>\n",
       "      <td>Not required</td>\n",
       "      <td>None</td>\n",
       "      <td>Obtain Information</td>\n",
       "      <td>\\tAn issue was discovered in the Linux kernel ...</td>\n",
       "      <td>2018_47_33.xlsx</td>\n",
       "      <td>47_33</td>\n",
       "      <td>53</td>\n",
       "      <td>low</td>\n",
       "      <td>2018</td>\n",
       "    </tr>\n",
       "    <tr>\n",
       "      <th>10802</th>\n",
       "      <td>CVE-2018-18955</td>\n",
       "      <td>2018-11-16</td>\n",
       "      <td>2018-12-19</td>\n",
       "      <td>OS</td>\n",
       "      <td>Linux</td>\n",
       "      <td>Linux Kernel</td>\n",
       "      <td>4.19</td>\n",
       "      <td>4.4</td>\n",
       "      <td>Partial</td>\n",
       "      <td>Partial</td>\n",
       "      <td>...</td>\n",
       "      <td>Medium</td>\n",
       "      <td>Not required</td>\n",
       "      <td>None</td>\n",
       "      <td>Bypass a restriction or similar</td>\n",
       "      <td>\\tIn the Linux kernel 4.15.x through 4.19.x be...</td>\n",
       "      <td>2018_47_33.xlsx</td>\n",
       "      <td>47_33</td>\n",
       "      <td>33</td>\n",
       "      <td>medium</td>\n",
       "      <td>2018</td>\n",
       "    </tr>\n",
       "    <tr>\n",
       "      <th>10803</th>\n",
       "      <td>CVE-2018-19407</td>\n",
       "      <td>2018-11-20</td>\n",
       "      <td>2018-12-19</td>\n",
       "      <td>OS</td>\n",
       "      <td>Linux</td>\n",
       "      <td>Linux Kernel</td>\n",
       "      <td>4.19.2</td>\n",
       "      <td>4.9</td>\n",
       "      <td>None</td>\n",
       "      <td>None</td>\n",
       "      <td>...</td>\n",
       "      <td>Low</td>\n",
       "      <td>Not required</td>\n",
       "      <td>None</td>\n",
       "      <td>Denial Of Service</td>\n",
       "      <td>\\tThe vcpu_scan_ioapic function in arch/x86/kv...</td>\n",
       "      <td>2018_47_33.xlsx</td>\n",
       "      <td>47_33</td>\n",
       "      <td>29</td>\n",
       "      <td>medium</td>\n",
       "      <td>2018</td>\n",
       "    </tr>\n",
       "    <tr>\n",
       "      <th>10804</th>\n",
       "      <td>CVE-2018-19406</td>\n",
       "      <td>2018-11-20</td>\n",
       "      <td>2018-12-19</td>\n",
       "      <td>OS</td>\n",
       "      <td>Linux</td>\n",
       "      <td>Linux Kernel</td>\n",
       "      <td>4.19.2</td>\n",
       "      <td>4.9</td>\n",
       "      <td>None</td>\n",
       "      <td>None</td>\n",
       "      <td>...</td>\n",
       "      <td>Low</td>\n",
       "      <td>Not required</td>\n",
       "      <td>None</td>\n",
       "      <td>Denial Of Service</td>\n",
       "      <td>\\tkvm_pv_send_ipi in arch/x86/kvm/lapic.c in t...</td>\n",
       "      <td>2018_47_33.xlsx</td>\n",
       "      <td>47_33</td>\n",
       "      <td>29</td>\n",
       "      <td>medium</td>\n",
       "      <td>2018</td>\n",
       "    </tr>\n",
       "    <tr>\n",
       "      <th>10805</th>\n",
       "      <td>CVE-2018-14646</td>\n",
       "      <td>2018-11-26</td>\n",
       "      <td>2018-12-19</td>\n",
       "      <td>OS</td>\n",
       "      <td>Redhat</td>\n",
       "      <td>Enterprise Linux Workstation</td>\n",
       "      <td>7.0</td>\n",
       "      <td>4.9</td>\n",
       "      <td>None</td>\n",
       "      <td>None</td>\n",
       "      <td>...</td>\n",
       "      <td>Low</td>\n",
       "      <td>Not required</td>\n",
       "      <td>None</td>\n",
       "      <td>Denial Of Service</td>\n",
       "      <td>\\tThe Linux kernel before 4.15-rc8 was found t...</td>\n",
       "      <td>2018_47_33.xlsx</td>\n",
       "      <td>47_33</td>\n",
       "      <td>23</td>\n",
       "      <td>medium</td>\n",
       "      <td>2018</td>\n",
       "    </tr>\n",
       "  </tbody>\n",
       "</table>\n",
       "<p>5 rows × 21 columns</p>\n",
       "</div>"
      ],
      "text/plain": [
       "        CVE ID Number Publish Date Update Date Software Type  Vendor  \\\n",
       "10801  CVE-2018-18710   2018-10-29  2018-12-21            OS   Linux   \n",
       "10802  CVE-2018-18955   2018-11-16  2018-12-19            OS   Linux   \n",
       "10803  CVE-2018-19407   2018-11-20  2018-12-19            OS   Linux   \n",
       "10804  CVE-2018-19406   2018-11-20  2018-12-19            OS   Linux   \n",
       "10805  CVE-2018-14646   2018-11-26  2018-12-19            OS  Redhat   \n",
       "\n",
       "                            Product Version  CVSS Score  \\\n",
       "10801                  Linux Kernel    4.19         2.1   \n",
       "10802                  Linux Kernel    4.19         4.4   \n",
       "10803                  Linux Kernel  4.19.2         4.9   \n",
       "10804                  Linux Kernel  4.19.2         4.9   \n",
       "10805  Enterprise Linux Workstation     7.0         4.9   \n",
       "\n",
       "      Confidentiality Impact Integrity Impact  ...  Access Complexity  \\\n",
       "10801                Partial             None  ...                Low   \n",
       "10802                Partial          Partial  ...             Medium   \n",
       "10803                   None             None  ...                Low   \n",
       "10804                   None             None  ...                Low   \n",
       "10805                   None             None  ...                Low   \n",
       "\n",
       "      Authentication Gained Access               Vulnerability Type  \\\n",
       "10801   Not required          None               Obtain Information   \n",
       "10802   Not required          None  Bypass a restriction or similar   \n",
       "10803   Not required          None                Denial Of Service   \n",
       "10804   Not required          None                Denial Of Service   \n",
       "10805   Not required          None                Denial Of Service   \n",
       "\n",
       "                                            Summary Text         filename  \\\n",
       "10801  \\tAn issue was discovered in the Linux kernel ...  2018_47_33.xlsx   \n",
       "10802  \\tIn the Linux kernel 4.15.x through 4.19.x be...  2018_47_33.xlsx   \n",
       "10803  \\tThe vcpu_scan_ioapic function in arch/x86/kv...  2018_47_33.xlsx   \n",
       "10804  \\tkvm_pv_send_ipi in arch/x86/kvm/lapic.c in t...  2018_47_33.xlsx   \n",
       "10805  \\tThe Linux kernel before 4.15-rc8 was found t...  2018_47_33.xlsx   \n",
       "\n",
       "      product_vender days  score level  year  \n",
       "10801          47_33   53          low  2018  \n",
       "10802          47_33   33       medium  2018  \n",
       "10803          47_33   29       medium  2018  \n",
       "10804          47_33   29       medium  2018  \n",
       "10805          47_33   23       medium  2018  \n",
       "\n",
       "[5 rows x 21 columns]"
      ]
     },
     "execution_count": 244,
     "metadata": {},
     "output_type": "execute_result"
    }
   ],
   "source": [
    "df.tail()"
   ]
  },
  {
   "cell_type": "code",
   "execution_count": 245,
   "metadata": {
    "collapsed": false
   },
   "outputs": [
    {
     "data": {
      "text/html": [
       "<div>\n",
       "<table border=\"1\" class=\"dataframe\">\n",
       "  <thead>\n",
       "    <tr style=\"text-align: right;\">\n",
       "      <th></th>\n",
       "      <th>CVE ID Number</th>\n",
       "      <th>Software Type</th>\n",
       "      <th>Vendor</th>\n",
       "      <th>Product</th>\n",
       "      <th>Version</th>\n",
       "      <th>Confidentiality Impact</th>\n",
       "      <th>Integrity Impact</th>\n",
       "      <th>Availibility Impact</th>\n",
       "      <th>Access Complexity</th>\n",
       "      <th>Authentication</th>\n",
       "      <th>Gained Access</th>\n",
       "      <th>Vulnerability Type</th>\n",
       "      <th>Summary Text</th>\n",
       "      <th>filename</th>\n",
       "      <th>product_vender</th>\n",
       "      <th>score level</th>\n",
       "    </tr>\n",
       "  </thead>\n",
       "  <tbody>\n",
       "    <tr>\n",
       "      <th>count</th>\n",
       "      <td>2124</td>\n",
       "      <td>2124</td>\n",
       "      <td>2124</td>\n",
       "      <td>2124</td>\n",
       "      <td>2099</td>\n",
       "      <td>2124</td>\n",
       "      <td>2124</td>\n",
       "      <td>2124</td>\n",
       "      <td>2124</td>\n",
       "      <td>2124</td>\n",
       "      <td>2124</td>\n",
       "      <td>1928</td>\n",
       "      <td>2124</td>\n",
       "      <td>2124</td>\n",
       "      <td>2124</td>\n",
       "      <td>2124</td>\n",
       "    </tr>\n",
       "    <tr>\n",
       "      <th>unique</th>\n",
       "      <td>2124</td>\n",
       "      <td>2</td>\n",
       "      <td>19</td>\n",
       "      <td>33</td>\n",
       "      <td>551</td>\n",
       "      <td>3</td>\n",
       "      <td>3</td>\n",
       "      <td>3</td>\n",
       "      <td>3</td>\n",
       "      <td>2</td>\n",
       "      <td>3</td>\n",
       "      <td>42</td>\n",
       "      <td>2124</td>\n",
       "      <td>20</td>\n",
       "      <td>1</td>\n",
       "      <td>3</td>\n",
       "    </tr>\n",
       "    <tr>\n",
       "      <th>top</th>\n",
       "      <td>CVE-2017-6264</td>\n",
       "      <td>OS</td>\n",
       "      <td>Linux</td>\n",
       "      <td>Linux Kernel</td>\n",
       "      <td>3.18</td>\n",
       "      <td>None</td>\n",
       "      <td>None</td>\n",
       "      <td>Complete</td>\n",
       "      <td>Low</td>\n",
       "      <td>Not required</td>\n",
       "      <td>None</td>\n",
       "      <td>Denial Of Service</td>\n",
       "      <td>\\tThe pciback_enable_msi function in the PCI b...</td>\n",
       "      <td>2017_47_33.xlsx</td>\n",
       "      <td>47_33</td>\n",
       "      <td>medium</td>\n",
       "    </tr>\n",
       "    <tr>\n",
       "      <th>freq</th>\n",
       "      <td>1</td>\n",
       "      <td>2123</td>\n",
       "      <td>1944</td>\n",
       "      <td>1945</td>\n",
       "      <td>173</td>\n",
       "      <td>906</td>\n",
       "      <td>1212</td>\n",
       "      <td>1346</td>\n",
       "      <td>1354</td>\n",
       "      <td>2078</td>\n",
       "      <td>2007</td>\n",
       "      <td>766</td>\n",
       "      <td>1</td>\n",
       "      <td>454</td>\n",
       "      <td>2124</td>\n",
       "      <td>954</td>\n",
       "    </tr>\n",
       "  </tbody>\n",
       "</table>\n",
       "</div>"
      ],
      "text/plain": [
       "        CVE ID Number Software Type Vendor       Product Version  \\\n",
       "count            2124          2124   2124          2124    2099   \n",
       "unique           2124             2     19            33     551   \n",
       "top     CVE-2017-6264            OS  Linux  Linux Kernel    3.18   \n",
       "freq                1          2123   1944          1945     173   \n",
       "\n",
       "       Confidentiality Impact Integrity Impact Availibility Impact  \\\n",
       "count                    2124             2124                2124   \n",
       "unique                      3                3                   3   \n",
       "top                      None             None            Complete   \n",
       "freq                      906             1212                1346   \n",
       "\n",
       "       Access Complexity Authentication Gained Access Vulnerability Type  \\\n",
       "count               2124           2124          2124               1928   \n",
       "unique                 3              2             3                 42   \n",
       "top                  Low   Not required          None  Denial Of Service   \n",
       "freq                1354           2078          2007                766   \n",
       "\n",
       "                                             Summary Text         filename  \\\n",
       "count                                                2124             2124   \n",
       "unique                                               2124               20   \n",
       "top     \\tThe pciback_enable_msi function in the PCI b...  2017_47_33.xlsx   \n",
       "freq                                                    1              454   \n",
       "\n",
       "       product_vender score level  \n",
       "count            2124        2124  \n",
       "unique              1           3  \n",
       "top             47_33      medium  \n",
       "freq             2124         954  "
      ]
     },
     "execution_count": 245,
     "metadata": {},
     "output_type": "execute_result"
    }
   ],
   "source": [
    "# summary statistics of character columns only\n",
    "df.describe(include=['object'])"
   ]
  },
  {
   "cell_type": "code",
   "execution_count": 246,
   "metadata": {
    "collapsed": false
   },
   "outputs": [
    {
     "data": {
      "text/html": [
       "<div>\n",
       "<table border=\"1\" class=\"dataframe\">\n",
       "  <thead>\n",
       "    <tr style=\"text-align: right;\">\n",
       "      <th></th>\n",
       "      <th>CVE ID Number</th>\n",
       "      <th>Publish Date</th>\n",
       "      <th>Update Date</th>\n",
       "      <th>Software Type</th>\n",
       "      <th>Vendor</th>\n",
       "      <th>Product</th>\n",
       "      <th>Version</th>\n",
       "      <th>CVSS Score</th>\n",
       "      <th>Confidentiality Impact</th>\n",
       "      <th>Integrity Impact</th>\n",
       "      <th>...</th>\n",
       "      <th>Access Complexity</th>\n",
       "      <th>Authentication</th>\n",
       "      <th>Gained Access</th>\n",
       "      <th>Vulnerability Type</th>\n",
       "      <th>Summary Text</th>\n",
       "      <th>filename</th>\n",
       "      <th>product_vender</th>\n",
       "      <th>days</th>\n",
       "      <th>score level</th>\n",
       "      <th>year</th>\n",
       "    </tr>\n",
       "  </thead>\n",
       "  <tbody>\n",
       "    <tr>\n",
       "      <th>count</th>\n",
       "      <td>11828</td>\n",
       "      <td>11828</td>\n",
       "      <td>11828</td>\n",
       "      <td>11828</td>\n",
       "      <td>11828</td>\n",
       "      <td>11828</td>\n",
       "      <td>8582</td>\n",
       "      <td>11828.000000</td>\n",
       "      <td>11828</td>\n",
       "      <td>11828</td>\n",
       "      <td>...</td>\n",
       "      <td>11828</td>\n",
       "      <td>11828</td>\n",
       "      <td>11828</td>\n",
       "      <td>10116</td>\n",
       "      <td>11828</td>\n",
       "      <td>11828</td>\n",
       "      <td>11828</td>\n",
       "      <td>11828.000000</td>\n",
       "      <td>11828</td>\n",
       "      <td>11828.000000</td>\n",
       "    </tr>\n",
       "    <tr>\n",
       "      <th>unique</th>\n",
       "      <td>7994</td>\n",
       "      <td>1776</td>\n",
       "      <td>633</td>\n",
       "      <td>2</td>\n",
       "      <td>37</td>\n",
       "      <td>86</td>\n",
       "      <td>777</td>\n",
       "      <td>NaN</td>\n",
       "      <td>3</td>\n",
       "      <td>3</td>\n",
       "      <td>...</td>\n",
       "      <td>3</td>\n",
       "      <td>3</td>\n",
       "      <td>3</td>\n",
       "      <td>80</td>\n",
       "      <td>7850</td>\n",
       "      <td>190</td>\n",
       "      <td>14</td>\n",
       "      <td>NaN</td>\n",
       "      <td>3</td>\n",
       "      <td>NaN</td>\n",
       "    </tr>\n",
       "    <tr>\n",
       "      <th>top</th>\n",
       "      <td>CVE-2009-0091</td>\n",
       "      <td>2017-03-16 00:00:00</td>\n",
       "      <td>2018-10-30 00:00:00</td>\n",
       "      <td>OS</td>\n",
       "      <td>Microsoft</td>\n",
       "      <td>Linux Kernel</td>\n",
       "      <td>-</td>\n",
       "      <td>NaN</td>\n",
       "      <td>Complete</td>\n",
       "      <td>Complete</td>\n",
       "      <td>...</td>\n",
       "      <td>Low</td>\n",
       "      <td>Not required</td>\n",
       "      <td>None</td>\n",
       "      <td>Denial Of Service</td>\n",
       "      <td>\\tRace condition in win32k.sys in the kernel-m...</td>\n",
       "      <td>2017_47_33.xlsx</td>\n",
       "      <td>47_33</td>\n",
       "      <td>NaN</td>\n",
       "      <td>high</td>\n",
       "      <td>NaN</td>\n",
       "    </tr>\n",
       "    <tr>\n",
       "      <th>freq</th>\n",
       "      <td>4</td>\n",
       "      <td>187</td>\n",
       "      <td>2284</td>\n",
       "      <td>11824</td>\n",
       "      <td>4530</td>\n",
       "      <td>2058</td>\n",
       "      <td>689</td>\n",
       "      <td>NaN</td>\n",
       "      <td>4721</td>\n",
       "      <td>4503</td>\n",
       "      <td>...</td>\n",
       "      <td>6591</td>\n",
       "      <td>11283</td>\n",
       "      <td>10434</td>\n",
       "      <td>2032</td>\n",
       "      <td>84</td>\n",
       "      <td>454</td>\n",
       "      <td>2124</td>\n",
       "      <td>NaN</td>\n",
       "      <td>5180</td>\n",
       "      <td>NaN</td>\n",
       "    </tr>\n",
       "    <tr>\n",
       "      <th>first</th>\n",
       "      <td>NaN</td>\n",
       "      <td>1999-01-01 00:00:00</td>\n",
       "      <td>2008-09-05 00:00:00</td>\n",
       "      <td>NaN</td>\n",
       "      <td>NaN</td>\n",
       "      <td>NaN</td>\n",
       "      <td>NaN</td>\n",
       "      <td>NaN</td>\n",
       "      <td>NaN</td>\n",
       "      <td>NaN</td>\n",
       "      <td>...</td>\n",
       "      <td>NaN</td>\n",
       "      <td>NaN</td>\n",
       "      <td>NaN</td>\n",
       "      <td>NaN</td>\n",
       "      <td>NaN</td>\n",
       "      <td>NaN</td>\n",
       "      <td>NaN</td>\n",
       "      <td>NaN</td>\n",
       "      <td>NaN</td>\n",
       "      <td>NaN</td>\n",
       "    </tr>\n",
       "    <tr>\n",
       "      <th>last</th>\n",
       "      <td>NaN</td>\n",
       "      <td>2019-01-02 00:00:00</td>\n",
       "      <td>2019-01-12 00:00:00</td>\n",
       "      <td>NaN</td>\n",
       "      <td>NaN</td>\n",
       "      <td>NaN</td>\n",
       "      <td>NaN</td>\n",
       "      <td>NaN</td>\n",
       "      <td>NaN</td>\n",
       "      <td>NaN</td>\n",
       "      <td>...</td>\n",
       "      <td>NaN</td>\n",
       "      <td>NaN</td>\n",
       "      <td>NaN</td>\n",
       "      <td>NaN</td>\n",
       "      <td>NaN</td>\n",
       "      <td>NaN</td>\n",
       "      <td>NaN</td>\n",
       "      <td>NaN</td>\n",
       "      <td>NaN</td>\n",
       "      <td>NaN</td>\n",
       "    </tr>\n",
       "    <tr>\n",
       "      <th>mean</th>\n",
       "      <td>NaN</td>\n",
       "      <td>NaN</td>\n",
       "      <td>NaN</td>\n",
       "      <td>NaN</td>\n",
       "      <td>NaN</td>\n",
       "      <td>NaN</td>\n",
       "      <td>NaN</td>\n",
       "      <td>6.147092</td>\n",
       "      <td>NaN</td>\n",
       "      <td>NaN</td>\n",
       "      <td>...</td>\n",
       "      <td>NaN</td>\n",
       "      <td>NaN</td>\n",
       "      <td>NaN</td>\n",
       "      <td>NaN</td>\n",
       "      <td>NaN</td>\n",
       "      <td>NaN</td>\n",
       "      <td>NaN</td>\n",
       "      <td>1628.057406</td>\n",
       "      <td>NaN</td>\n",
       "      <td>2012.543963</td>\n",
       "    </tr>\n",
       "    <tr>\n",
       "      <th>std</th>\n",
       "      <td>NaN</td>\n",
       "      <td>NaN</td>\n",
       "      <td>NaN</td>\n",
       "      <td>NaN</td>\n",
       "      <td>NaN</td>\n",
       "      <td>NaN</td>\n",
       "      <td>NaN</td>\n",
       "      <td>2.275877</td>\n",
       "      <td>NaN</td>\n",
       "      <td>NaN</td>\n",
       "      <td>...</td>\n",
       "      <td>NaN</td>\n",
       "      <td>NaN</td>\n",
       "      <td>NaN</td>\n",
       "      <td>NaN</td>\n",
       "      <td>NaN</td>\n",
       "      <td>NaN</td>\n",
       "      <td>NaN</td>\n",
       "      <td>1711.248904</td>\n",
       "      <td>NaN</td>\n",
       "      <td>4.769216</td>\n",
       "    </tr>\n",
       "    <tr>\n",
       "      <th>min</th>\n",
       "      <td>NaN</td>\n",
       "      <td>NaN</td>\n",
       "      <td>NaN</td>\n",
       "      <td>NaN</td>\n",
       "      <td>NaN</td>\n",
       "      <td>NaN</td>\n",
       "      <td>NaN</td>\n",
       "      <td>1.200000</td>\n",
       "      <td>NaN</td>\n",
       "      <td>NaN</td>\n",
       "      <td>...</td>\n",
       "      <td>NaN</td>\n",
       "      <td>NaN</td>\n",
       "      <td>NaN</td>\n",
       "      <td>NaN</td>\n",
       "      <td>NaN</td>\n",
       "      <td>NaN</td>\n",
       "      <td>NaN</td>\n",
       "      <td>0.000000</td>\n",
       "      <td>NaN</td>\n",
       "      <td>1999.000000</td>\n",
       "    </tr>\n",
       "    <tr>\n",
       "      <th>25%</th>\n",
       "      <td>NaN</td>\n",
       "      <td>NaN</td>\n",
       "      <td>NaN</td>\n",
       "      <td>NaN</td>\n",
       "      <td>NaN</td>\n",
       "      <td>NaN</td>\n",
       "      <td>NaN</td>\n",
       "      <td>4.600000</td>\n",
       "      <td>NaN</td>\n",
       "      <td>NaN</td>\n",
       "      <td>...</td>\n",
       "      <td>NaN</td>\n",
       "      <td>NaN</td>\n",
       "      <td>NaN</td>\n",
       "      <td>NaN</td>\n",
       "      <td>NaN</td>\n",
       "      <td>NaN</td>\n",
       "      <td>NaN</td>\n",
       "      <td>139.750000</td>\n",
       "      <td>NaN</td>\n",
       "      <td>2009.000000</td>\n",
       "    </tr>\n",
       "    <tr>\n",
       "      <th>50%</th>\n",
       "      <td>NaN</td>\n",
       "      <td>NaN</td>\n",
       "      <td>NaN</td>\n",
       "      <td>NaN</td>\n",
       "      <td>NaN</td>\n",
       "      <td>NaN</td>\n",
       "      <td>NaN</td>\n",
       "      <td>6.800000</td>\n",
       "      <td>NaN</td>\n",
       "      <td>NaN</td>\n",
       "      <td>...</td>\n",
       "      <td>NaN</td>\n",
       "      <td>NaN</td>\n",
       "      <td>NaN</td>\n",
       "      <td>NaN</td>\n",
       "      <td>NaN</td>\n",
       "      <td>NaN</td>\n",
       "      <td>NaN</td>\n",
       "      <td>976.000000</td>\n",
       "      <td>NaN</td>\n",
       "      <td>2014.000000</td>\n",
       "    </tr>\n",
       "    <tr>\n",
       "      <th>75%</th>\n",
       "      <td>NaN</td>\n",
       "      <td>NaN</td>\n",
       "      <td>NaN</td>\n",
       "      <td>NaN</td>\n",
       "      <td>NaN</td>\n",
       "      <td>NaN</td>\n",
       "      <td>NaN</td>\n",
       "      <td>7.500000</td>\n",
       "      <td>NaN</td>\n",
       "      <td>NaN</td>\n",
       "      <td>...</td>\n",
       "      <td>NaN</td>\n",
       "      <td>NaN</td>\n",
       "      <td>NaN</td>\n",
       "      <td>NaN</td>\n",
       "      <td>NaN</td>\n",
       "      <td>NaN</td>\n",
       "      <td>NaN</td>\n",
       "      <td>2927.500000</td>\n",
       "      <td>NaN</td>\n",
       "      <td>2016.000000</td>\n",
       "    </tr>\n",
       "    <tr>\n",
       "      <th>max</th>\n",
       "      <td>NaN</td>\n",
       "      <td>NaN</td>\n",
       "      <td>NaN</td>\n",
       "      <td>NaN</td>\n",
       "      <td>NaN</td>\n",
       "      <td>NaN</td>\n",
       "      <td>NaN</td>\n",
       "      <td>10.000000</td>\n",
       "      <td>NaN</td>\n",
       "      <td>NaN</td>\n",
       "      <td>...</td>\n",
       "      <td>NaN</td>\n",
       "      <td>NaN</td>\n",
       "      <td>NaN</td>\n",
       "      <td>NaN</td>\n",
       "      <td>NaN</td>\n",
       "      <td>NaN</td>\n",
       "      <td>NaN</td>\n",
       "      <td>7237.000000</td>\n",
       "      <td>NaN</td>\n",
       "      <td>2019.000000</td>\n",
       "    </tr>\n",
       "  </tbody>\n",
       "</table>\n",
       "<p>13 rows × 21 columns</p>\n",
       "</div>"
      ],
      "text/plain": [
       "        CVE ID Number         Publish Date          Update Date Software Type  \\\n",
       "count           11828                11828                11828         11828   \n",
       "unique           7994                 1776                  633             2   \n",
       "top     CVE-2009-0091  2017-03-16 00:00:00  2018-10-30 00:00:00            OS   \n",
       "freq                4                  187                 2284         11824   \n",
       "first             NaN  1999-01-01 00:00:00  2008-09-05 00:00:00           NaN   \n",
       "last              NaN  2019-01-02 00:00:00  2019-01-12 00:00:00           NaN   \n",
       "mean              NaN                  NaN                  NaN           NaN   \n",
       "std               NaN                  NaN                  NaN           NaN   \n",
       "min               NaN                  NaN                  NaN           NaN   \n",
       "25%               NaN                  NaN                  NaN           NaN   \n",
       "50%               NaN                  NaN                  NaN           NaN   \n",
       "75%               NaN                  NaN                  NaN           NaN   \n",
       "max               NaN                  NaN                  NaN           NaN   \n",
       "\n",
       "           Vendor       Product Version    CVSS Score Confidentiality Impact  \\\n",
       "count       11828         11828    8582  11828.000000                  11828   \n",
       "unique         37            86     777           NaN                      3   \n",
       "top     Microsoft  Linux Kernel       -           NaN               Complete   \n",
       "freq         4530          2058     689           NaN                   4721   \n",
       "first         NaN           NaN     NaN           NaN                    NaN   \n",
       "last          NaN           NaN     NaN           NaN                    NaN   \n",
       "mean          NaN           NaN     NaN      6.147092                    NaN   \n",
       "std           NaN           NaN     NaN      2.275877                    NaN   \n",
       "min           NaN           NaN     NaN      1.200000                    NaN   \n",
       "25%           NaN           NaN     NaN      4.600000                    NaN   \n",
       "50%           NaN           NaN     NaN      6.800000                    NaN   \n",
       "75%           NaN           NaN     NaN      7.500000                    NaN   \n",
       "max           NaN           NaN     NaN     10.000000                    NaN   \n",
       "\n",
       "       Integrity Impact      ...      Access Complexity Authentication  \\\n",
       "count             11828      ...                  11828          11828   \n",
       "unique                3      ...                      3              3   \n",
       "top            Complete      ...                    Low   Not required   \n",
       "freq               4503      ...                   6591          11283   \n",
       "first               NaN      ...                    NaN            NaN   \n",
       "last                NaN      ...                    NaN            NaN   \n",
       "mean                NaN      ...                    NaN            NaN   \n",
       "std                 NaN      ...                    NaN            NaN   \n",
       "min                 NaN      ...                    NaN            NaN   \n",
       "25%                 NaN      ...                    NaN            NaN   \n",
       "50%                 NaN      ...                    NaN            NaN   \n",
       "75%                 NaN      ...                    NaN            NaN   \n",
       "max                 NaN      ...                    NaN            NaN   \n",
       "\n",
       "       Gained Access Vulnerability Type  \\\n",
       "count          11828              10116   \n",
       "unique             3                 80   \n",
       "top             None  Denial Of Service   \n",
       "freq           10434               2032   \n",
       "first            NaN                NaN   \n",
       "last             NaN                NaN   \n",
       "mean             NaN                NaN   \n",
       "std              NaN                NaN   \n",
       "min              NaN                NaN   \n",
       "25%              NaN                NaN   \n",
       "50%              NaN                NaN   \n",
       "75%              NaN                NaN   \n",
       "max              NaN                NaN   \n",
       "\n",
       "                                             Summary Text         filename  \\\n",
       "count                                               11828            11828   \n",
       "unique                                               7850              190   \n",
       "top     \\tRace condition in win32k.sys in the kernel-m...  2017_47_33.xlsx   \n",
       "freq                                                   84              454   \n",
       "first                                                 NaN              NaN   \n",
       "last                                                  NaN              NaN   \n",
       "mean                                                  NaN              NaN   \n",
       "std                                                   NaN              NaN   \n",
       "min                                                   NaN              NaN   \n",
       "25%                                                   NaN              NaN   \n",
       "50%                                                   NaN              NaN   \n",
       "75%                                                   NaN              NaN   \n",
       "max                                                   NaN              NaN   \n",
       "\n",
       "       product_vender          days  score level          year  \n",
       "count           11828  11828.000000        11828  11828.000000  \n",
       "unique             14           NaN            3           NaN  \n",
       "top             47_33           NaN         high           NaN  \n",
       "freq             2124           NaN         5180           NaN  \n",
       "first             NaN           NaN          NaN           NaN  \n",
       "last              NaN           NaN          NaN           NaN  \n",
       "mean              NaN   1628.057406          NaN   2012.543963  \n",
       "std               NaN   1711.248904          NaN      4.769216  \n",
       "min               NaN      0.000000          NaN   1999.000000  \n",
       "25%               NaN    139.750000          NaN   2009.000000  \n",
       "50%               NaN    976.000000          NaN   2014.000000  \n",
       "75%               NaN   2927.500000          NaN   2016.000000  \n",
       "max               NaN   7237.000000          NaN   2019.000000  \n",
       "\n",
       "[13 rows x 21 columns]"
      ]
     },
     "execution_count": 246,
     "metadata": {},
     "output_type": "execute_result"
    }
   ],
   "source": [
    "# summary statistics of all columns \n",
    "all.describe(include='all')"
   ]
  },
  {
   "cell_type": "code",
   "execution_count": 247,
   "metadata": {
    "collapsed": false
   },
   "outputs": [
    {
     "data": {
      "text/plain": [
       "count       2124\n",
       "unique         3\n",
       "top       medium\n",
       "freq         954\n",
       "Name: score level, dtype: object"
      ]
     },
     "execution_count": 247,
     "metadata": {},
     "output_type": "execute_result"
    }
   ],
   "source": [
    "df['score level'].describe()"
   ]
  },
  {
   "cell_type": "code",
   "execution_count": 248,
   "metadata": {
    "collapsed": false
   },
   "outputs": [
    {
     "data": {
      "text/plain": [
       "count    2124.000000\n",
       "mean     1474.848870\n",
       "std      1750.629429\n",
       "min         0.000000\n",
       "25%       114.000000\n",
       "50%       494.000000\n",
       "75%      2939.750000\n",
       "max      6900.000000\n",
       "Name: days, dtype: float64"
      ]
     },
     "execution_count": 248,
     "metadata": {},
     "output_type": "execute_result"
    }
   ],
   "source": [
    "df['days'].describe()"
   ]
  },
  {
   "cell_type": "raw",
   "metadata": {
    "collapsed": false
   },
   "source": [
    "df['CVSS Score'].describe()"
   ]
  },
  {
   "cell_type": "code",
   "execution_count": 249,
   "metadata": {
    "collapsed": false
   },
   "outputs": [
    {
     "data": {
      "text/plain": [
       "array(['Linux', 'SGI', 'Suse', 'Redhat', 'Microsoft', 'SUN', 'Trustix',\n",
       "       'Netbsd', 'Slackware', 'Ubuntu', 'Turbolinux', 'Openbsd',\n",
       "       'Opengroup', 'Cisco', 'Novell', 'XEN', 'Qualcomm', 'Opensuse',\n",
       "       'Oracle'], dtype=object)"
      ]
     },
     "execution_count": 249,
     "metadata": {},
     "output_type": "execute_result"
    }
   ],
   "source": [
    "#List unique values in the df['Vendo'] column\n",
    "df.Vendor.unique()"
   ]
  },
  {
   "cell_type": "markdown",
   "metadata": {},
   "source": [
    "## Visualizing for all data"
   ]
  },
  {
   "cell_type": "code",
   "execution_count": 250,
   "metadata": {
    "collapsed": false
   },
   "outputs": [
    {
     "data": {
      "text/plain": [
       "<matplotlib.text.Text at 0x138ea8400>"
      ]
     },
     "execution_count": 250,
     "metadata": {},
     "output_type": "execute_result"
    },
    {
     "data": {
      "image/png": "[encoded data removed]",
      "text/plain": [
       "<matplotlib.figure.Figure at 0x138a22208>"
      ]
     },
     "metadata": {},
     "output_type": "display_data"
    }
   ],
   "source": [
    "all.groupby('score level')['product_vender'].size().plot(kind='bar',color='green')\n",
    "plt.title('score level by product_vender')"
   ]
  },
  {
   "cell_type": "code",
   "execution_count": 251,
   "metadata": {
    "collapsed": false
   },
   "outputs": [
    {
     "data": {
      "text/plain": [
       "<matplotlib.text.Text at 0x13910d9e8>"
      ]
     },
     "execution_count": 251,
     "metadata": {},
     "output_type": "execute_result"
    },
    {
     "data": {
      "image/png": "[encoded data removed]",
      "text/plain": [
       "<matplotlib.figure.Figure at 0x138fc1f28>"
      ]
     },
     "metadata": {},
     "output_type": "display_data"
    }
   ],
   "source": [
    "all.groupby('product_vender')['Product'].nunique().plot(kind='pie', label='')\n",
    "plt.title('Product by product_vender')"
   ]
  },
  {
   "cell_type": "code",
   "execution_count": 252,
   "metadata": {
    "collapsed": false
   },
   "outputs": [
    {
     "data": {
      "text/plain": [
       "<matplotlib.text.Text at 0x139254400>"
      ]
     },
     "execution_count": 252,
     "metadata": {},
     "output_type": "execute_result"
    },
    {
     "data": {
      "image/png": "[encoded data removed]",
      "text/plain": [
       "<matplotlib.figure.Figure at 0x13910b898>"
      ]
     },
     "metadata": {},
     "output_type": "display_data"
    }
   ],
   "source": [
    "all.groupby('Access Complexity')['product_vender'].size().plot(kind='bar',color='blue')\n",
    "plt.title('Access Complexity by product_vender')\n"
   ]
  },
  {
   "cell_type": "code",
   "execution_count": 253,
   "metadata": {
    "collapsed": false
   },
   "outputs": [
    {
     "data": {
      "text/plain": [
       "<matplotlib.text.Text at 0x1392dd1d0>"
      ]
     },
     "execution_count": 253,
     "metadata": {},
     "output_type": "execute_result"
    },
    {
     "data": {
      "image/png": "[encoded data removed]",
      "text/plain": [
       "<matplotlib.figure.Figure at 0x1391c8748>"
      ]
     },
     "metadata": {},
     "output_type": "display_data"
    }
   ],
   "source": [
    "all.groupby('Gained Access')['product_vender'].size().plot(kind='bar',color='red')\n",
    "plt.title('Gained Access by product_vender')\n"
   ]
  },
  {
   "cell_type": "code",
   "execution_count": 254,
   "metadata": {
    "collapsed": false
   },
   "outputs": [
    {
     "data": {
      "text/plain": [
       "<matplotlib.text.Text at 0x1393ef198>"
      ]
     },
     "execution_count": 254,
     "metadata": {},
     "output_type": "execute_result"
    },
    {
     "data": {
      "image/png": "[encoded data removed]",
      "text/plain": [
       "<matplotlib.figure.Figure at 0x13930f128>"
      ]
     },
     "metadata": {},
     "output_type": "display_data"
    }
   ],
   "source": [
    "all.groupby('Confidentiality Impact')['product_vender'].size().plot(kind='bar',color='grey')\n",
    "plt.title('Confidentiality Impact by product_vender')\n"
   ]
  },
  {
   "cell_type": "code",
   "execution_count": 255,
   "metadata": {
    "collapsed": false
   },
   "outputs": [
    {
     "data": {
      "text/plain": [
       "<matplotlib.text.Text at 0x1394fc860>"
      ]
     },
     "execution_count": 255,
     "metadata": {},
     "output_type": "execute_result"
    },
    {
     "data": {
      "image/png": "[encoded data removed]",
      "text/plain": [
       "<matplotlib.figure.Figure at 0x139423128>"
      ]
     },
     "metadata": {},
     "output_type": "display_data"
    }
   ],
   "source": [
    "all.groupby('Integrity Impact')['product_vender'].size().plot(kind='bar',color='green')\n",
    "plt.title('Integrity Impact by product_vender')"
   ]
  },
  {
   "cell_type": "markdown",
   "metadata": {},
   "source": [
    "## Visualizing for selected 'product_vender'"
   ]
  },
  {
   "cell_type": "code",
   "execution_count": 256,
   "metadata": {
    "collapsed": false
   },
   "outputs": [
    {
     "data": {
      "text/plain": [
       "<matplotlib.axes._subplots.AxesSubplot at 0x1393debe0>"
      ]
     },
     "execution_count": 256,
     "metadata": {},
     "output_type": "execute_result"
    },
    {
     "data": {
      "image/png": "[encoded data removed]",
      "text/plain": [
       "<matplotlib.figure.Figure at 0x139258e48>"
      ]
     },
     "metadata": {},
     "output_type": "display_data"
    }
   ],
   "source": [
    "df.plot(x='Publish Date', y='CVSS Score')"
   ]
  },
  {
   "cell_type": "code",
   "execution_count": 257,
   "metadata": {
    "collapsed": false
   },
   "outputs": [
    {
     "data": {
      "text/plain": [
       "<matplotlib.axes._subplots.AxesSubplot at 0x13942fb00>"
      ]
     },
     "execution_count": 257,
     "metadata": {},
     "output_type": "execute_result"
    },
    {
     "data": {
      "image/png": "[encoded data removed]",
      "text/plain": [
       "<matplotlib.figure.Figure at 0x1394f4908>"
      ]
     },
     "metadata": {},
     "output_type": "display_data"
    }
   ],
   "source": [
    "df.plot(x='Update Date', y='CVSS Score')"
   ]
  },
  {
   "cell_type": "code",
   "execution_count": 258,
   "metadata": {
    "collapsed": false
   },
   "outputs": [
    {
     "data": {
      "text/plain": [
       "<matplotlib.axes._subplots.AxesSubplot at 0x13943e3c8>"
      ]
     },
     "execution_count": 258,
     "metadata": {},
     "output_type": "execute_result"
    },
    {
     "data": {
      "image/png": "[encoded data removed]",
      "text/plain": [
       "<matplotlib.figure.Figure at 0x13990a240>"
      ]
     },
     "metadata": {},
     "output_type": "display_data"
    }
   ],
   "source": [
    "df.plot(x='Update Date', y='days')"
   ]
  },
  {
   "cell_type": "code",
   "execution_count": 259,
   "metadata": {
    "collapsed": false
   },
   "outputs": [
    {
     "data": {
      "text/plain": [
       "<matplotlib.axes._subplots.AxesSubplot at 0x1398d25c0>"
      ]
     },
     "execution_count": 259,
     "metadata": {},
     "output_type": "execute_result"
    },
    {
     "data": {
      "image/png": "[encoded data removed]",
      "text/plain": [
       "<matplotlib.figure.Figure at 0x139c7a4a8>"
      ]
     },
     "metadata": {},
     "output_type": "display_data"
    }
   ],
   "source": [
    "df.plot(x='Publish Date', y='days')"
   ]
  },
  {
   "cell_type": "code",
   "execution_count": 260,
   "metadata": {
    "collapsed": false
   },
   "outputs": [
    {
     "data": {
      "text/plain": [
       "<matplotlib.axes._subplots.AxesSubplot at 0x1398dc9b0>"
      ]
     },
     "execution_count": 260,
     "metadata": {},
     "output_type": "execute_result"
    },
    {
     "data": {
      "image/png": "[encoded data removed]",
      "text/plain": [
       "<matplotlib.figure.Figure at 0x1395f38d0>"
      ]
     },
     "metadata": {},
     "output_type": "display_data"
    }
   ],
   "source": [
    "df.plot(kind='scatter',x='CVSS Score',y='year',color='red')"
   ]
  },
  {
   "cell_type": "code",
   "execution_count": 261,
   "metadata": {
    "collapsed": false
   },
   "outputs": [
    {
     "data": {
      "text/plain": [
       "<matplotlib.axes._subplots.AxesSubplot at 0x13a886d30>"
      ]
     },
     "execution_count": 261,
     "metadata": {},
     "output_type": "execute_result"
    },
    {
     "data": {
      "image/png": "[encoded data removed]",
      "text/plain": [
       "<matplotlib.figure.Figure at 0x13a8a6828>"
      ]
     },
     "metadata": {},
     "output_type": "display_data"
    }
   ],
   "source": [
    "df.plot(kind='scatter',x='year',y='days',color='red')"
   ]
  },
  {
   "cell_type": "code",
   "execution_count": 262,
   "metadata": {
    "collapsed": false
   },
   "outputs": [
    {
     "data": {
      "text/plain": [
       "<matplotlib.text.Text at 0x13a8c3780>"
      ]
     },
     "execution_count": 262,
     "metadata": {},
     "output_type": "execute_result"
    },
    {
     "data": {
      "image/png": "[encoded data removed]",
      "text/plain": [
       "<matplotlib.figure.Figure at 0x13a8d3160>"
      ]
     },
     "metadata": {},
     "output_type": "display_data"
    }
   ],
   "source": [
    "df.groupby('Software Type')['Product'].nunique().plot(kind='pie')\n",
    "plt.title('Software Type')"
   ]
  },
  {
   "cell_type": "code",
   "execution_count": 263,
   "metadata": {
    "collapsed": false
   },
   "outputs": [
    {
     "data": {
      "text/plain": [
       "<matplotlib.text.Text at 0x13ace3c88>"
      ]
     },
     "execution_count": 263,
     "metadata": {},
     "output_type": "execute_result"
    },
    {
     "data": {
      "image/png": "[encoded data removed]",
      "text/plain": [
       "<matplotlib.figure.Figure at 0x13a8bafd0>"
      ]
     },
     "metadata": {},
     "output_type": "display_data"
    }
   ],
   "source": [
    "df.groupby('score level')['Product'].nunique().plot(kind='bar',color='green')\n",
    "plt.title('score level')"
   ]
  },
  {
   "cell_type": "code",
   "execution_count": 264,
   "metadata": {
    "collapsed": false
   },
   "outputs": [
    {
     "data": {
      "text/plain": [
       "<matplotlib.text.Text at 0x13acc42e8>"
      ]
     },
     "execution_count": 264,
     "metadata": {},
     "output_type": "execute_result"
    },
    {
     "data": {
      "image/png": "[encoded data removed]",
      "text/plain": [
       "<matplotlib.figure.Figure at 0x13a8da5f8>"
      ]
     },
     "metadata": {},
     "output_type": "display_data"
    }
   ],
   "source": [
    "df['CVSS Score'].hist()\n",
    "plt.title('CVSS Score')"
   ]
  },
  {
   "cell_type": "code",
   "execution_count": 265,
   "metadata": {
    "collapsed": false
   },
   "outputs": [
    {
     "data": {
      "text/plain": [
       "19"
      ]
     },
     "execution_count": 265,
     "metadata": {},
     "output_type": "execute_result"
    }
   ],
   "source": [
    "df['Vendor'].nunique()"
   ]
  },
  {
   "cell_type": "code",
   "execution_count": 266,
   "metadata": {
    "collapsed": false
   },
   "outputs": [
    {
     "data": {
      "text/plain": [
       "<matplotlib.axes._subplots.AxesSubplot at 0x13aee6588>"
      ]
     },
     "execution_count": 266,
     "metadata": {},
     "output_type": "execute_result"
    },
    {
     "data": {
      "image/png": "[encoded data removed]",
      "text/plain": [
       "<matplotlib.figure.Figure at 0x13af3db38>"
      ]
     },
     "metadata": {},
     "output_type": "display_data"
    }
   ],
   "source": [
    "df.groupby('year')['Vendor'].nunique().plot(kind='bar')"
   ]
  },
  {
   "cell_type": "code",
   "execution_count": 267,
   "metadata": {
    "collapsed": false
   },
   "outputs": [
    {
     "data": {
      "text/plain": [
       "<matplotlib.axes._subplots.AxesSubplot at 0x13b016f60>"
      ]
     },
     "execution_count": 267,
     "metadata": {},
     "output_type": "execute_result"
    },
    {
     "data": {
      "image/png": "[encoded data removed]",
      "text/plain": [
       "<matplotlib.figure.Figure at 0x13b01dc50>"
      ]
     },
     "metadata": {},
     "output_type": "display_data"
    }
   ],
   "source": [
    "df.groupby(['Software Type', 'score level'])['Product'].nunique().unstack().plot(kind='bar',stacked=True)"
   ]
  },
  {
   "cell_type": "code",
   "execution_count": 268,
   "metadata": {
    "collapsed": false
   },
   "outputs": [
    {
     "data": {
      "text/plain": [
       "<matplotlib.text.Text at 0x13b2b5e10>"
      ]
     },
     "execution_count": 268,
     "metadata": {},
     "output_type": "execute_result"
    },
    {
     "data": {
      "image/png": "[encoded data removed]",
      "text/plain": [
       "<matplotlib.figure.Figure at 0x13b1845c0>"
      ]
     },
     "metadata": {},
     "output_type": "display_data"
    }
   ],
   "source": [
    "#the distributions, not raw amounts\n",
    "df.groupby(['Software Type','score level'])['year'].nunique().groupby(level=0).apply(\n",
    "    lambda x: 100 * x / x.sum()\n",
    ").unstack().plot(kind='bar',stacked=True)\n",
    "plt.title('Distributions by year')"
   ]
  },
  {
   "cell_type": "code",
   "execution_count": 269,
   "metadata": {
    "collapsed": false
   },
   "outputs": [
    {
     "data": {
      "text/plain": [
       "<matplotlib.text.Text at 0x13b3dbeb8>"
      ]
     },
     "execution_count": 269,
     "metadata": {},
     "output_type": "execute_result"
    },
    {
     "data": {
      "image/png": "[encoded data removed]",
      "text/plain": [
       "<matplotlib.figure.Figure at 0x13b2ab160>"
      ]
     },
     "metadata": {},
     "output_type": "display_data"
    }
   ],
   "source": [
    "#the distributions, not raw amounts\n",
    "df.groupby(['Software Type','score level'])['Vendor'].nunique().groupby(level=0).apply(\n",
    "    lambda x: 100 * x / x.sum()\n",
    ").unstack().plot(kind='bar',stacked=True)\n",
    "plt.title('Distributions by product')"
   ]
  },
  {
   "cell_type": "code",
   "execution_count": null,
   "metadata": {
    "collapsed": true
   },
   "outputs": [],
   "source": []
  }
 ],
 "metadata": {
  "kernelspec": {
   "display_name": "Python 3",
   "language": "python",
   "name": "python3"
  },
  "language_info": {
   "codemirror_mode": {
    "name": "ipython",
    "version": 3
   },
   "file_extension": ".py",
   "mimetype": "text/x-python",
   "name": "python",
   "nbconvert_exporter": "python",
   "pygments_lexer": "ipython3",
   "version": "3.5.2"
  }
 },
 "nbformat": 4,
 "nbformat_minor": 0
}

{
 "cells": [
  {
   "cell_type": "markdown",
   "metadata": {},
   "source": [
    "# Descriptive Statistics For \"CVE Details\" site"
   ]
  },
  {
   "cell_type": "markdown",
   "metadata": {},
   "source": [
    "## Parts of the work\n",
    "### 1) run script scrapProducts.py for scraping products  for each year in the range 1999-2019. This script creates many xslx-files (1999_31_5.xlsx, 1999_36_23.xlsx, ... ) for each products: "
   ]
  },
  {
   "cell_type": "markdown",
   "metadata": {},
   "source": [
    "    Number\tProduct\t\t     Product ID\tVendor ID\n",
    "    1\tDebian Linux Debian      36\t    23\n",
    "    2\tLinux Kernel Linux\t     47\t    33\n",
    "    4\tMac Os X Apple\t         156\t49\n",
    "    8\tUbuntu Linux Canonical\t 20550\t4781\n",
    "    12\tWindows 7 Microsoft\t     17153\t26\n",
    "    15\tOpensuse Opensuse\t     14195\t8184\n",
    "    17\tWindows Vista Microsoft\t 9591\t26\n",
    "    22\tWindows 10 Microsoft\t 32238\t26\n",
    "    23\tWindows Xp Microsoft\t 739\t26\n",
    "    25\tWindows 8.1 Microsoft\t 26434\t26\n",
    "    28\tMac Os X Server Apple\t 2274\t49\n",
    "    34\tEnterprise Linux Redhat\t 78\t    25\n",
    "    43\tWindows 2000 Microsoft\t 107\t26\n",
    "    48\tSolaris\tSUN\t             31\t    5"
   ]
  },
  {
   "cell_type": "code",
   "execution_count": 7,
   "metadata": {
    "collapsed": false,
    "scrolled": true
   },
   "outputs": [
    {
     "name": "stdout",
     "output_type": "stream",
     "text": [
      "1999_20550_4781.xlsx\n",
      "1999_17153_26.xlsx\n",
      "1999_14195_8184.xlsx\n",
      "1999_9591_26.xlsx\n",
      "1999_32238_26.xlsx\n",
      "1999_739_26.xlsx\n",
      "1999_26434_26.xlsx\n",
      "1999_2274_49.xlsx\n",
      "1999_78_25.xlsx\n",
      "2000_156_49.xlsx\n",
      "2000_20550_4781.xlsx\n",
      "2000_17153_26.xlsx\n",
      "2000_14195_8184.xlsx\n",
      "2000_9591_26.xlsx\n",
      "2000_32238_26.xlsx\n",
      "2000_26434_26.xlsx\n",
      "2000_2274_49.xlsx\n",
      "2000_78_25.xlsx\n",
      "2001_20550_4781.xlsx\n",
      "2001_17153_26.xlsx\n",
      "2001_14195_8184.xlsx\n",
      "2001_9591_26.xlsx\n",
      "2001_32238_26.xlsx\n",
      "2001_26434_26.xlsx\n",
      "2001_2274_49.xlsx\n",
      "2001_78_25.xlsx\n",
      "2002_9591_26.xlsx\n",
      "451\n",
      "   CVE ID Number Publish Date Update Date Software Type  Vendor       Product  \\\n",
      "0  CVE-1999-0914   1999-01-03  2008-09-09            OS  Debian  Debian Linux   \n",
      "1  CVE-1999-0389   1999-01-03  2008-09-09            OS  Debian  Debian Linux   \n",
      "2  CVE-1999-0678   1999-01-17  2008-09-09            OS  Debian  Debian Linux   \n",
      "3  CVE-1999-0457   1999-01-17  2008-09-09            OS  Debian  Debian Linux   \n",
      "4  CVE-1999-0373   1999-02-01  2008-09-09            OS  Debian  Debian Linux   \n",
      "\n",
      "  Version  CVSS Score Confidentiality Impact Integrity Impact  ...   \\\n",
      "0     2.0         7.2               Complete         Complete  ...    \n",
      "1     2.0         7.2               Complete         Complete  ...    \n",
      "2     4.0         5.0                Partial             None  ...    \n",
      "3     2.0         7.2               Complete         Complete  ...    \n",
      "4     2.0         7.2               Complete         Complete  ...    \n",
      "\n",
      "  Access Complexity Authentication Gained Access    Vulnerability Type  \\\n",
      "0               Low   Not required         Admin              Overflow   \n",
      "1               Low   Not required         Admin              Overflow   \n",
      "2               Low   Not required          None                   NaN   \n",
      "3               Low   Not required         Admin       Gain privileges   \n",
      "4               Low   Not required         Admin  Execute CodeOverflow   \n",
      "\n",
      "                                        Summary Text         filename  \\\n",
      "0  \\tBuffer overflow in the FTP client in the Deb...  1999_36_23.xlsx   \n",
      "1  \\tBuffer overflow in the bootp server in the D...  1999_36_23.xlsx   \n",
      "2  \\tA default configuration of Apache on Debian ...  1999_36_23.xlsx   \n",
      "3  \\tLinux ftpwatch program allows local users to...  1999_36_23.xlsx   \n",
      "4  \\tBuffer overflow in the \"Super\" utility in De...  1999_36_23.xlsx   \n",
      "\n",
      "  product_vender      days  score level  year  \n",
      "0          36_23 3537 days         high  1999  \n",
      "1          36_23 3537 days         high  1999  \n",
      "2          36_23 3523 days       medium  1999  \n",
      "3          36_23 3523 days         high  1999  \n",
      "4          36_23 3508 days         high  1999  \n",
      "\n",
      "[5 rows x 21 columns]\n",
      "Writing to Excel File : All_Data_for_Analysis.xlsx.\n"
     ]
    }
   ],
   "source": [
    "# -*- coding: utf-8 -*-\n",
    "\"\"\"\n",
    "Created on Fri Jan 11 09:37:10 2019\n",
    "\n",
    "@author: a1\n",
    "\"\"\"\n",
    "import pandas as pd\n",
    "import numpy as np\n",
    "from pandas import ExcelWriter\n",
    "\n",
    "\n",
    "#create data for analysis (from all xlsx-files)\n",
    "list_of_dfs=[]\n",
    "\n",
    "\n",
    "product_vender=[]\n",
    "choices = ['low', 'medium', 'high']\n",
    "\n",
    "my_list = [ (36,23), (47, 33), (156, 49), (20550, 4781), (17153, 26), (14195,8184), (9591,26),(32238,26),(739,26), (26434,26), (2274,49),(78\t, 25), (107,\t26),(31,\t5)]\n",
    "for year in range(1999,2020):         \n",
    "        for product_id, vender_id in my_list:\n",
    "             \n",
    "             fileName=str(year) + \"_\" + str(product_id) + \"_\" + str(vender_id) + \".xlsx\"\n",
    "             \n",
    "             try:\n",
    "                 dataframe=pd.read_excel(fileName, \"CVE Details\")\n",
    "             except:\n",
    "                 continue\n",
    "             \n",
    "             if(len(dataframe.index) == 0):\n",
    "                 print(fileName)\n",
    "                 continue\n",
    "             \n",
    "             \n",
    "             # assigning that filename as a new column in the dataframe\n",
    "             dataframe['filename'] = fileName\n",
    "             \n",
    "             # assigning that product_vender as a new column in the dataframe\n",
    "             dataframe['product_vender'] = str(product_id) + \"_\" + str(vender_id)\n",
    "             \n",
    "             #print(len(dataframe.columns))\n",
    "             \n",
    "             # convert columns type  of a DataFram\n",
    "             dataframe['Publish Date'] = pd.to_datetime(dataframe['Publish Date'])\n",
    "             dataframe['Update Date'] = pd.to_datetime(dataframe['Update Date'])\n",
    "             dataframe['CVSS Score'] = pd.to_numeric(dataframe['CVSS Score'])\n",
    "             \n",
    "             #new column\n",
    "             dataframe['days']=dataframe['Update Date'] - dataframe['Publish Date']\n",
    "             \n",
    "             \n",
    "             #classify it, 0-3.9 is low, 4-6.9 is medium, and 7-10 is high\n",
    "             conditions = [\n",
    "                 (dataframe['CVSS Score'] > 0) & (dataframe['CVSS Score'] <= 3.9),\n",
    "                 (dataframe['CVSS Score'] > 3.9) & (dataframe['CVSS Score'] <= 6.9),\n",
    "                 (dataframe['CVSS Score'] > 6.9) & (dataframe['CVSS Score'] <= 10)]\n",
    "                 \n",
    "             #new colum\n",
    "             dataframe['score level']=np.select(conditions, choices, default='unknown')\n",
    "             \n",
    "             #print(dataframe.shape[0])\n",
    "             \n",
    "             #remove coluns 6,8,...,15\n",
    "             #dataframe.drop(dataframe.columns[[6, 8, 9, 10, 11, 12, 13, 14, 15]], axis=1, inplace=True)  # df.columns is zero-based pd.Index \n",
    "             \n",
    "             dataframe.sort_values('Publish Date', inplace=True)             \n",
    "             \n",
    "             #print(dataframe.head())\n",
    "             list_of_dfs.append(dataframe)\n",
    "\n",
    "\n",
    "  \n",
    "# Combine a list of dataframes, on top of each other\n",
    "df = pd.concat(list_of_dfs, ignore_index=True)\n",
    "df['year'] = df['Publish Date'].dt.year\n",
    "print(len(df.index))\n",
    "print(df.head())\n",
    "\n",
    "writer = ExcelWriter('All_Data_for_Analysis.xlsx')\n",
    "df.to_excel(writer,'CVE Details',index=False)\n",
    "writer.save() \n",
    "print (\"Writing to Excel File : All_Data_for_Analysis.xlsx.\")\n",
    "\n",
    "    "
   ]
  },
  {
   "cell_type": "code",
   "execution_count": null,
   "metadata": {
    "collapsed": true
   },
   "outputs": [],
   "source": []
  },
  {
   "cell_type": "markdown",
   "metadata": {},
   "source": [
    " ### 2) run script createGeneralDF.py. This script creates All_Data_for_Analysis.xlsx from xslx-files (1999_31_5.xlsx, 1999_36_23.xlsx, ... ).\n",
    " ### 3) run this jupyter notebook for the analysis. The file All_Data_for_Analysis.xlsx from previous step is input file."
   ]
  },
  {
   "cell_type": "markdown",
   "metadata": {},
   "source": [
    "## Import modules"
   ]
  },
  {
   "cell_type": "code",
   "execution_count": 1,
   "metadata": {
    "collapsed": true
   },
   "outputs": [],
   "source": [
    "# -*- coding: utf-8 -*-\n",
    "%matplotlib inline\n",
    "import pandas as pd\n",
    "import numpy as np\n",
    "from pandas import ExcelWriter\n",
    "import matplotlib.pyplot as plt\n",
    "import matplotlib.ticker as mtick"
   ]
  },
  {
   "cell_type": "markdown",
   "metadata": {},
   "source": [
    "## Read data and create dataframe "
   ]
  },
  {
   "cell_type": "code",
   "execution_count": 3,
   "metadata": {
    "collapsed": false
   },
   "outputs": [
    {
     "name": "stdout",
     "output_type": "stream",
     "text": [
      "451\n"
     ]
    }
   ],
   "source": [
    "df=pd.read_excel('All_Data_for_Analysis.xlsx', \"CVE Details\")\n",
    "print(len(df.index))"
   ]
  },
  {
   "cell_type": "markdown",
   "metadata": {},
   "source": [
    "## Descriptive Statistics"
   ]
  },
  {
   "cell_type": "code",
   "execution_count": 4,
   "metadata": {
    "collapsed": false
   },
   "outputs": [
    {
     "data": {
      "text/html": [
       "<div>\n",
       "<table border=\"1\" class=\"dataframe\">\n",
       "  <thead>\n",
       "    <tr style=\"text-align: right;\">\n",
       "      <th></th>\n",
       "      <th>CVE ID Number</th>\n",
       "      <th>Publish Date</th>\n",
       "      <th>Update Date</th>\n",
       "      <th>Software Type</th>\n",
       "      <th>Vendor</th>\n",
       "      <th>Product</th>\n",
       "      <th>Version</th>\n",
       "      <th>CVSS Score</th>\n",
       "      <th>Confidentiality Impact</th>\n",
       "      <th>Integrity Impact</th>\n",
       "      <th>...</th>\n",
       "      <th>Access Complexity</th>\n",
       "      <th>Authentication</th>\n",
       "      <th>Gained Access</th>\n",
       "      <th>Vulnerability Type</th>\n",
       "      <th>Summary Text</th>\n",
       "      <th>filename</th>\n",
       "      <th>product_vender</th>\n",
       "      <th>days</th>\n",
       "      <th>score level</th>\n",
       "      <th>year</th>\n",
       "    </tr>\n",
       "  </thead>\n",
       "  <tbody>\n",
       "    <tr>\n",
       "      <th>0</th>\n",
       "      <td>CVE-1999-0914</td>\n",
       "      <td>1999-01-03</td>\n",
       "      <td>2008-09-09</td>\n",
       "      <td>OS</td>\n",
       "      <td>Debian</td>\n",
       "      <td>Debian Linux</td>\n",
       "      <td>2.0</td>\n",
       "      <td>7.2</td>\n",
       "      <td>Complete</td>\n",
       "      <td>Complete</td>\n",
       "      <td>...</td>\n",
       "      <td>Low</td>\n",
       "      <td>Not required</td>\n",
       "      <td>Admin</td>\n",
       "      <td>Overflow</td>\n",
       "      <td>\\tBuffer overflow in the FTP client in the Deb...</td>\n",
       "      <td>1999_36_23.xlsx</td>\n",
       "      <td>36_23</td>\n",
       "      <td>3538</td>\n",
       "      <td>high</td>\n",
       "      <td>1999</td>\n",
       "    </tr>\n",
       "    <tr>\n",
       "      <th>1</th>\n",
       "      <td>CVE-1999-0389</td>\n",
       "      <td>1999-01-03</td>\n",
       "      <td>2008-09-09</td>\n",
       "      <td>OS</td>\n",
       "      <td>Debian</td>\n",
       "      <td>Debian Linux</td>\n",
       "      <td>2.0</td>\n",
       "      <td>7.2</td>\n",
       "      <td>Complete</td>\n",
       "      <td>Complete</td>\n",
       "      <td>...</td>\n",
       "      <td>Low</td>\n",
       "      <td>Not required</td>\n",
       "      <td>Admin</td>\n",
       "      <td>Overflow</td>\n",
       "      <td>\\tBuffer overflow in the bootp server in the D...</td>\n",
       "      <td>1999_36_23.xlsx</td>\n",
       "      <td>36_23</td>\n",
       "      <td>3538</td>\n",
       "      <td>high</td>\n",
       "      <td>1999</td>\n",
       "    </tr>\n",
       "    <tr>\n",
       "      <th>2</th>\n",
       "      <td>CVE-1999-0678</td>\n",
       "      <td>1999-01-17</td>\n",
       "      <td>2008-09-09</td>\n",
       "      <td>OS</td>\n",
       "      <td>Debian</td>\n",
       "      <td>Debian Linux</td>\n",
       "      <td>4.0</td>\n",
       "      <td>5.0</td>\n",
       "      <td>Partial</td>\n",
       "      <td>None</td>\n",
       "      <td>...</td>\n",
       "      <td>Low</td>\n",
       "      <td>Not required</td>\n",
       "      <td>None</td>\n",
       "      <td>NaN</td>\n",
       "      <td>\\tA default configuration of Apache on Debian ...</td>\n",
       "      <td>1999_36_23.xlsx</td>\n",
       "      <td>36_23</td>\n",
       "      <td>3524</td>\n",
       "      <td>medium</td>\n",
       "      <td>1999</td>\n",
       "    </tr>\n",
       "    <tr>\n",
       "      <th>3</th>\n",
       "      <td>CVE-1999-0457</td>\n",
       "      <td>1999-01-17</td>\n",
       "      <td>2008-09-09</td>\n",
       "      <td>OS</td>\n",
       "      <td>Debian</td>\n",
       "      <td>Debian Linux</td>\n",
       "      <td>2.0</td>\n",
       "      <td>7.2</td>\n",
       "      <td>Complete</td>\n",
       "      <td>Complete</td>\n",
       "      <td>...</td>\n",
       "      <td>Low</td>\n",
       "      <td>Not required</td>\n",
       "      <td>Admin</td>\n",
       "      <td>Gain privileges</td>\n",
       "      <td>\\tLinux ftpwatch program allows local users to...</td>\n",
       "      <td>1999_36_23.xlsx</td>\n",
       "      <td>36_23</td>\n",
       "      <td>3524</td>\n",
       "      <td>high</td>\n",
       "      <td>1999</td>\n",
       "    </tr>\n",
       "    <tr>\n",
       "      <th>4</th>\n",
       "      <td>CVE-1999-0373</td>\n",
       "      <td>1999-02-01</td>\n",
       "      <td>2008-09-09</td>\n",
       "      <td>OS</td>\n",
       "      <td>Debian</td>\n",
       "      <td>Debian Linux</td>\n",
       "      <td>2.0</td>\n",
       "      <td>7.2</td>\n",
       "      <td>Complete</td>\n",
       "      <td>Complete</td>\n",
       "      <td>...</td>\n",
       "      <td>Low</td>\n",
       "      <td>Not required</td>\n",
       "      <td>Admin</td>\n",
       "      <td>Execute CodeOverflow</td>\n",
       "      <td>\\tBuffer overflow in the \"Super\" utility in De...</td>\n",
       "      <td>1999_36_23.xlsx</td>\n",
       "      <td>36_23</td>\n",
       "      <td>3509</td>\n",
       "      <td>high</td>\n",
       "      <td>1999</td>\n",
       "    </tr>\n",
       "  </tbody>\n",
       "</table>\n",
       "<p>5 rows × 21 columns</p>\n",
       "</div>"
      ],
      "text/plain": [
       "   CVE ID Number Publish Date Update Date Software Type  Vendor       Product  \\\n",
       "0  CVE-1999-0914   1999-01-03  2008-09-09            OS  Debian  Debian Linux   \n",
       "1  CVE-1999-0389   1999-01-03  2008-09-09            OS  Debian  Debian Linux   \n",
       "2  CVE-1999-0678   1999-01-17  2008-09-09            OS  Debian  Debian Linux   \n",
       "3  CVE-1999-0457   1999-01-17  2008-09-09            OS  Debian  Debian Linux   \n",
       "4  CVE-1999-0373   1999-02-01  2008-09-09            OS  Debian  Debian Linux   \n",
       "\n",
       "  Version  CVSS Score Confidentiality Impact Integrity Impact  ...   \\\n",
       "0     2.0         7.2               Complete         Complete  ...    \n",
       "1     2.0         7.2               Complete         Complete  ...    \n",
       "2     4.0         5.0                Partial             None  ...    \n",
       "3     2.0         7.2               Complete         Complete  ...    \n",
       "4     2.0         7.2               Complete         Complete  ...    \n",
       "\n",
       "  Access Complexity Authentication Gained Access    Vulnerability Type  \\\n",
       "0               Low   Not required         Admin              Overflow   \n",
       "1               Low   Not required         Admin              Overflow   \n",
       "2               Low   Not required          None                   NaN   \n",
       "3               Low   Not required         Admin       Gain privileges   \n",
       "4               Low   Not required         Admin  Execute CodeOverflow   \n",
       "\n",
       "                                        Summary Text         filename  \\\n",
       "0  \\tBuffer overflow in the FTP client in the Deb...  1999_36_23.xlsx   \n",
       "1  \\tBuffer overflow in the bootp server in the D...  1999_36_23.xlsx   \n",
       "2  \\tA default configuration of Apache on Debian ...  1999_36_23.xlsx   \n",
       "3  \\tLinux ftpwatch program allows local users to...  1999_36_23.xlsx   \n",
       "4  \\tBuffer overflow in the \"Super\" utility in De...  1999_36_23.xlsx   \n",
       "\n",
       "  product_vender  days  score level  year  \n",
       "0          36_23  3538         high  1999  \n",
       "1          36_23  3538         high  1999  \n",
       "2          36_23  3524       medium  1999  \n",
       "3          36_23  3524         high  1999  \n",
       "4          36_23  3509         high  1999  \n",
       "\n",
       "[5 rows x 21 columns]"
      ]
     },
     "execution_count": 4,
     "metadata": {},
     "output_type": "execute_result"
    }
   ],
   "source": [
    "df.head()"
   ]
  },
  {
   "cell_type": "code",
   "execution_count": 5,
   "metadata": {
    "collapsed": false
   },
   "outputs": [
    {
     "data": {
      "text/html": [
       "<div>\n",
       "<table border=\"1\" class=\"dataframe\">\n",
       "  <thead>\n",
       "    <tr style=\"text-align: right;\">\n",
       "      <th></th>\n",
       "      <th>CVE ID Number</th>\n",
       "      <th>Publish Date</th>\n",
       "      <th>Update Date</th>\n",
       "      <th>Software Type</th>\n",
       "      <th>Vendor</th>\n",
       "      <th>Product</th>\n",
       "      <th>Version</th>\n",
       "      <th>CVSS Score</th>\n",
       "      <th>Confidentiality Impact</th>\n",
       "      <th>Integrity Impact</th>\n",
       "      <th>...</th>\n",
       "      <th>Access Complexity</th>\n",
       "      <th>Authentication</th>\n",
       "      <th>Gained Access</th>\n",
       "      <th>Vulnerability Type</th>\n",
       "      <th>Summary Text</th>\n",
       "      <th>filename</th>\n",
       "      <th>product_vender</th>\n",
       "      <th>days</th>\n",
       "      <th>score level</th>\n",
       "      <th>year</th>\n",
       "    </tr>\n",
       "  </thead>\n",
       "  <tbody>\n",
       "    <tr>\n",
       "      <th>446</th>\n",
       "      <td>CVE-2002-1871</td>\n",
       "      <td>2002-12-31</td>\n",
       "      <td>2018-10-30</td>\n",
       "      <td>OS</td>\n",
       "      <td>SUN</td>\n",
       "      <td>Sunos</td>\n",
       "      <td>5.8</td>\n",
       "      <td>7.2</td>\n",
       "      <td>Complete</td>\n",
       "      <td>Complete</td>\n",
       "      <td>...</td>\n",
       "      <td>Low</td>\n",
       "      <td>Not required</td>\n",
       "      <td>Admin</td>\n",
       "      <td>NaN</td>\n",
       "      <td>\\tpkgadd in Sun Solaris 2.5.1 through 8 instal...</td>\n",
       "      <td>2002_31_5.xlsx</td>\n",
       "      <td>31_5</td>\n",
       "      <td>5783</td>\n",
       "      <td>high</td>\n",
       "      <td>2002</td>\n",
       "    </tr>\n",
       "    <tr>\n",
       "      <th>447</th>\n",
       "      <td>CVE-2002-1980</td>\n",
       "      <td>2002-12-31</td>\n",
       "      <td>2018-10-30</td>\n",
       "      <td>OS</td>\n",
       "      <td>SUN</td>\n",
       "      <td>Sunos</td>\n",
       "      <td>5.8</td>\n",
       "      <td>7.2</td>\n",
       "      <td>Complete</td>\n",
       "      <td>Complete</td>\n",
       "      <td>...</td>\n",
       "      <td>Low</td>\n",
       "      <td>Not required</td>\n",
       "      <td>Admin</td>\n",
       "      <td>Execute CodeOverflow</td>\n",
       "      <td>\\tBuffer overflow in Volume Manager daemon (vo...</td>\n",
       "      <td>2002_31_5.xlsx</td>\n",
       "      <td>31_5</td>\n",
       "      <td>5783</td>\n",
       "      <td>high</td>\n",
       "      <td>2002</td>\n",
       "    </tr>\n",
       "    <tr>\n",
       "      <th>448</th>\n",
       "      <td>CVE-2002-2089</td>\n",
       "      <td>2002-12-31</td>\n",
       "      <td>2008-09-05</td>\n",
       "      <td>OS</td>\n",
       "      <td>SUN</td>\n",
       "      <td>Solaris</td>\n",
       "      <td>9.0</td>\n",
       "      <td>4.6</td>\n",
       "      <td>Partial</td>\n",
       "      <td>Partial</td>\n",
       "      <td>...</td>\n",
       "      <td>Low</td>\n",
       "      <td>Not required</td>\n",
       "      <td>User</td>\n",
       "      <td>Execute CodeOverflow</td>\n",
       "      <td>\\tBuffer overflow in rcp in Solaris 9.0 allows...</td>\n",
       "      <td>2002_31_5.xlsx</td>\n",
       "      <td>31_5</td>\n",
       "      <td>2076</td>\n",
       "      <td>medium</td>\n",
       "      <td>2002</td>\n",
       "    </tr>\n",
       "    <tr>\n",
       "      <th>449</th>\n",
       "      <td>CVE-2002-2197</td>\n",
       "      <td>2002-12-31</td>\n",
       "      <td>2018-10-30</td>\n",
       "      <td>OS</td>\n",
       "      <td>SUN</td>\n",
       "      <td>Sunos</td>\n",
       "      <td>5.8</td>\n",
       "      <td>7.2</td>\n",
       "      <td>Complete</td>\n",
       "      <td>Complete</td>\n",
       "      <td>...</td>\n",
       "      <td>Low</td>\n",
       "      <td>Not required</td>\n",
       "      <td>Admin</td>\n",
       "      <td>Denial Of Service</td>\n",
       "      <td>\\tUnknown vulnerability in Sun Solaris 8.0 all...</td>\n",
       "      <td>2002_31_5.xlsx</td>\n",
       "      <td>31_5</td>\n",
       "      <td>5783</td>\n",
       "      <td>high</td>\n",
       "      <td>2002</td>\n",
       "    </tr>\n",
       "    <tr>\n",
       "      <th>450</th>\n",
       "      <td>CVE-2002-2203</td>\n",
       "      <td>2002-12-31</td>\n",
       "      <td>2018-10-30</td>\n",
       "      <td>OS</td>\n",
       "      <td>SUN</td>\n",
       "      <td>Sunos</td>\n",
       "      <td>5.7</td>\n",
       "      <td>4.9</td>\n",
       "      <td>Complete</td>\n",
       "      <td>None</td>\n",
       "      <td>...</td>\n",
       "      <td>Low</td>\n",
       "      <td>Not required</td>\n",
       "      <td>None</td>\n",
       "      <td>NaN</td>\n",
       "      <td>\\tUnknown vulnerability in the System Serial C...</td>\n",
       "      <td>2002_31_5.xlsx</td>\n",
       "      <td>31_5</td>\n",
       "      <td>5783</td>\n",
       "      <td>medium</td>\n",
       "      <td>2002</td>\n",
       "    </tr>\n",
       "  </tbody>\n",
       "</table>\n",
       "<p>5 rows × 21 columns</p>\n",
       "</div>"
      ],
      "text/plain": [
       "     CVE ID Number Publish Date Update Date Software Type Vendor  Product  \\\n",
       "446  CVE-2002-1871   2002-12-31  2018-10-30            OS    SUN    Sunos   \n",
       "447  CVE-2002-1980   2002-12-31  2018-10-30            OS    SUN    Sunos   \n",
       "448  CVE-2002-2089   2002-12-31  2008-09-05            OS    SUN  Solaris   \n",
       "449  CVE-2002-2197   2002-12-31  2018-10-30            OS    SUN    Sunos   \n",
       "450  CVE-2002-2203   2002-12-31  2018-10-30            OS    SUN    Sunos   \n",
       "\n",
       "    Version  CVSS Score Confidentiality Impact Integrity Impact  ...   \\\n",
       "446     5.8         7.2               Complete         Complete  ...    \n",
       "447     5.8         7.2               Complete         Complete  ...    \n",
       "448     9.0         4.6                Partial          Partial  ...    \n",
       "449     5.8         7.2               Complete         Complete  ...    \n",
       "450     5.7         4.9               Complete             None  ...    \n",
       "\n",
       "    Access Complexity Authentication Gained Access    Vulnerability Type  \\\n",
       "446               Low   Not required         Admin                   NaN   \n",
       "447               Low   Not required         Admin  Execute CodeOverflow   \n",
       "448               Low   Not required          User  Execute CodeOverflow   \n",
       "449               Low   Not required         Admin     Denial Of Service   \n",
       "450               Low   Not required          None                   NaN   \n",
       "\n",
       "                                          Summary Text        filename  \\\n",
       "446  \\tpkgadd in Sun Solaris 2.5.1 through 8 instal...  2002_31_5.xlsx   \n",
       "447  \\tBuffer overflow in Volume Manager daemon (vo...  2002_31_5.xlsx   \n",
       "448  \\tBuffer overflow in rcp in Solaris 9.0 allows...  2002_31_5.xlsx   \n",
       "449  \\tUnknown vulnerability in Sun Solaris 8.0 all...  2002_31_5.xlsx   \n",
       "450  \\tUnknown vulnerability in the System Serial C...  2002_31_5.xlsx   \n",
       "\n",
       "    product_vender  days  score level  year  \n",
       "446           31_5  5783         high  2002  \n",
       "447           31_5  5783         high  2002  \n",
       "448           31_5  2076       medium  2002  \n",
       "449           31_5  5783         high  2002  \n",
       "450           31_5  5783       medium  2002  \n",
       "\n",
       "[5 rows x 21 columns]"
      ]
     },
     "execution_count": 5,
     "metadata": {},
     "output_type": "execute_result"
    }
   ],
   "source": [
    "df.tail()"
   ]
  },
  {
   "cell_type": "code",
   "execution_count": 6,
   "metadata": {
    "collapsed": false
   },
   "outputs": [
    {
     "data": {
      "text/html": [
       "<div>\n",
       "<table border=\"1\" class=\"dataframe\">\n",
       "  <thead>\n",
       "    <tr style=\"text-align: right;\">\n",
       "      <th></th>\n",
       "      <th>CVE ID Number</th>\n",
       "      <th>Software Type</th>\n",
       "      <th>Vendor</th>\n",
       "      <th>Product</th>\n",
       "      <th>Version</th>\n",
       "      <th>Confidentiality Impact</th>\n",
       "      <th>Integrity Impact</th>\n",
       "      <th>Availibility Impact</th>\n",
       "      <th>Access Complexity</th>\n",
       "      <th>Authentication</th>\n",
       "      <th>Gained Access</th>\n",
       "      <th>Vulnerability Type</th>\n",
       "      <th>Summary Text</th>\n",
       "      <th>filename</th>\n",
       "      <th>product_vender</th>\n",
       "      <th>score level</th>\n",
       "    </tr>\n",
       "  </thead>\n",
       "  <tbody>\n",
       "    <tr>\n",
       "      <th>count</th>\n",
       "      <td>451</td>\n",
       "      <td>451</td>\n",
       "      <td>451</td>\n",
       "      <td>451</td>\n",
       "      <td>315</td>\n",
       "      <td>451</td>\n",
       "      <td>451</td>\n",
       "      <td>451</td>\n",
       "      <td>451</td>\n",
       "      <td>451</td>\n",
       "      <td>451</td>\n",
       "      <td>300</td>\n",
       "      <td>451</td>\n",
       "      <td>451</td>\n",
       "      <td>451</td>\n",
       "      <td>451</td>\n",
       "    </tr>\n",
       "    <tr>\n",
       "      <th>unique</th>\n",
       "      <td>412</td>\n",
       "      <td>2</td>\n",
       "      <td>30</td>\n",
       "      <td>39</td>\n",
       "      <td>79</td>\n",
       "      <td>3</td>\n",
       "      <td>3</td>\n",
       "      <td>3</td>\n",
       "      <td>3</td>\n",
       "      <td>1</td>\n",
       "      <td>3</td>\n",
       "      <td>19</td>\n",
       "      <td>412</td>\n",
       "      <td>24</td>\n",
       "      <td>8</td>\n",
       "      <td>3</td>\n",
       "    </tr>\n",
       "    <tr>\n",
       "      <th>top</th>\n",
       "      <td>CVE-2002-2185</td>\n",
       "      <td>OS</td>\n",
       "      <td>Microsoft</td>\n",
       "      <td>Sunos</td>\n",
       "      <td>5.8</td>\n",
       "      <td>Partial</td>\n",
       "      <td>Partial</td>\n",
       "      <td>Partial</td>\n",
       "      <td>Low</td>\n",
       "      <td>Not required</td>\n",
       "      <td>None</td>\n",
       "      <td>Denial Of Service</td>\n",
       "      <td>\\tThe Internet Group Management Protocol (IGMP...</td>\n",
       "      <td>2001_107_26.xlsx</td>\n",
       "      <td>107_26</td>\n",
       "      <td>high</td>\n",
       "    </tr>\n",
       "    <tr>\n",
       "      <th>freq</th>\n",
       "      <td>3</td>\n",
       "      <td>422</td>\n",
       "      <td>175</td>\n",
       "      <td>89</td>\n",
       "      <td>39</td>\n",
       "      <td>177</td>\n",
       "      <td>162</td>\n",
       "      <td>214</td>\n",
       "      <td>434</td>\n",
       "      <td>451</td>\n",
       "      <td>245</td>\n",
       "      <td>98</td>\n",
       "      <td>3</td>\n",
       "      <td>43</td>\n",
       "      <td>133</td>\n",
       "      <td>206</td>\n",
       "    </tr>\n",
       "  </tbody>\n",
       "</table>\n",
       "</div>"
      ],
      "text/plain": [
       "        CVE ID Number Software Type     Vendor Product Version  \\\n",
       "count             451           451        451     451     315   \n",
       "unique            412             2         30      39      79   \n",
       "top     CVE-2002-2185            OS  Microsoft   Sunos     5.8   \n",
       "freq                3           422        175      89      39   \n",
       "\n",
       "       Confidentiality Impact Integrity Impact Availibility Impact  \\\n",
       "count                     451              451                 451   \n",
       "unique                      3                3                   3   \n",
       "top                   Partial          Partial             Partial   \n",
       "freq                      177              162                 214   \n",
       "\n",
       "       Access Complexity Authentication Gained Access Vulnerability Type  \\\n",
       "count                451            451           451                300   \n",
       "unique                 3              1             3                 19   \n",
       "top                  Low   Not required          None  Denial Of Service   \n",
       "freq                 434            451           245                 98   \n",
       "\n",
       "                                             Summary Text          filename  \\\n",
       "count                                                 451               451   \n",
       "unique                                                412                24   \n",
       "top     \\tThe Internet Group Management Protocol (IGMP...  2001_107_26.xlsx   \n",
       "freq                                                    3                43   \n",
       "\n",
       "       product_vender score level  \n",
       "count             451         451  \n",
       "unique              8           3  \n",
       "top            107_26        high  \n",
       "freq              133         206  "
      ]
     },
     "execution_count": 6,
     "metadata": {},
     "output_type": "execute_result"
    }
   ],
   "source": [
    "# summary statistics of character column\n",
    "df.describe(include=['object'])"
   ]
  },
  {
   "cell_type": "code",
   "execution_count": 8,
   "metadata": {
    "collapsed": false
   },
   "outputs": [
    {
     "data": {
      "text/html": [
       "<div>\n",
       "<table border=\"1\" class=\"dataframe\">\n",
       "  <thead>\n",
       "    <tr style=\"text-align: right;\">\n",
       "      <th></th>\n",
       "      <th>CVE ID Number</th>\n",
       "      <th>Publish Date</th>\n",
       "      <th>Update Date</th>\n",
       "      <th>Software Type</th>\n",
       "      <th>Vendor</th>\n",
       "      <th>Product</th>\n",
       "      <th>Version</th>\n",
       "      <th>CVSS Score</th>\n",
       "      <th>Confidentiality Impact</th>\n",
       "      <th>Integrity Impact</th>\n",
       "      <th>...</th>\n",
       "      <th>Access Complexity</th>\n",
       "      <th>Authentication</th>\n",
       "      <th>Gained Access</th>\n",
       "      <th>Vulnerability Type</th>\n",
       "      <th>Summary Text</th>\n",
       "      <th>filename</th>\n",
       "      <th>product_vender</th>\n",
       "      <th>days</th>\n",
       "      <th>score level</th>\n",
       "      <th>year</th>\n",
       "    </tr>\n",
       "  </thead>\n",
       "  <tbody>\n",
       "    <tr>\n",
       "      <th>count</th>\n",
       "      <td>451</td>\n",
       "      <td>451</td>\n",
       "      <td>451</td>\n",
       "      <td>451</td>\n",
       "      <td>451</td>\n",
       "      <td>451</td>\n",
       "      <td>315</td>\n",
       "      <td>451.000000</td>\n",
       "      <td>451</td>\n",
       "      <td>451</td>\n",
       "      <td>...</td>\n",
       "      <td>451</td>\n",
       "      <td>451</td>\n",
       "      <td>451</td>\n",
       "      <td>300</td>\n",
       "      <td>451</td>\n",
       "      <td>451</td>\n",
       "      <td>451</td>\n",
       "      <td>451</td>\n",
       "      <td>451</td>\n",
       "      <td>451.000000</td>\n",
       "    </tr>\n",
       "    <tr>\n",
       "      <th>unique</th>\n",
       "      <td>412</td>\n",
       "      <td>180</td>\n",
       "      <td>21</td>\n",
       "      <td>2</td>\n",
       "      <td>30</td>\n",
       "      <td>39</td>\n",
       "      <td>79</td>\n",
       "      <td>NaN</td>\n",
       "      <td>3</td>\n",
       "      <td>3</td>\n",
       "      <td>...</td>\n",
       "      <td>3</td>\n",
       "      <td>1</td>\n",
       "      <td>3</td>\n",
       "      <td>19</td>\n",
       "      <td>412</td>\n",
       "      <td>24</td>\n",
       "      <td>8</td>\n",
       "      <td>NaN</td>\n",
       "      <td>3</td>\n",
       "      <td>NaN</td>\n",
       "    </tr>\n",
       "    <tr>\n",
       "      <th>top</th>\n",
       "      <td>CVE-2002-2185</td>\n",
       "      <td>2002-12-31 00:00:00</td>\n",
       "      <td>2018-10-12 00:00:00</td>\n",
       "      <td>OS</td>\n",
       "      <td>Microsoft</td>\n",
       "      <td>Sunos</td>\n",
       "      <td>5.8</td>\n",
       "      <td>NaN</td>\n",
       "      <td>Partial</td>\n",
       "      <td>Partial</td>\n",
       "      <td>...</td>\n",
       "      <td>Low</td>\n",
       "      <td>Not required</td>\n",
       "      <td>None</td>\n",
       "      <td>Denial Of Service</td>\n",
       "      <td>\\tThe Internet Group Management Protocol (IGMP...</td>\n",
       "      <td>2001_107_26.xlsx</td>\n",
       "      <td>107_26</td>\n",
       "      <td>NaN</td>\n",
       "      <td>high</td>\n",
       "      <td>NaN</td>\n",
       "    </tr>\n",
       "    <tr>\n",
       "      <th>freq</th>\n",
       "      <td>3</td>\n",
       "      <td>34</td>\n",
       "      <td>109</td>\n",
       "      <td>422</td>\n",
       "      <td>175</td>\n",
       "      <td>89</td>\n",
       "      <td>39</td>\n",
       "      <td>NaN</td>\n",
       "      <td>177</td>\n",
       "      <td>162</td>\n",
       "      <td>...</td>\n",
       "      <td>434</td>\n",
       "      <td>451</td>\n",
       "      <td>245</td>\n",
       "      <td>98</td>\n",
       "      <td>3</td>\n",
       "      <td>43</td>\n",
       "      <td>133</td>\n",
       "      <td>NaN</td>\n",
       "      <td>206</td>\n",
       "      <td>NaN</td>\n",
       "    </tr>\n",
       "    <tr>\n",
       "      <th>first</th>\n",
       "      <td>NaN</td>\n",
       "      <td>1999-01-01 00:00:00</td>\n",
       "      <td>2008-09-05 00:00:00</td>\n",
       "      <td>NaN</td>\n",
       "      <td>NaN</td>\n",
       "      <td>NaN</td>\n",
       "      <td>NaN</td>\n",
       "      <td>NaN</td>\n",
       "      <td>NaN</td>\n",
       "      <td>NaN</td>\n",
       "      <td>...</td>\n",
       "      <td>NaN</td>\n",
       "      <td>NaN</td>\n",
       "      <td>NaN</td>\n",
       "      <td>NaN</td>\n",
       "      <td>NaN</td>\n",
       "      <td>NaN</td>\n",
       "      <td>NaN</td>\n",
       "      <td>NaN</td>\n",
       "      <td>NaN</td>\n",
       "      <td>NaN</td>\n",
       "    </tr>\n",
       "    <tr>\n",
       "      <th>last</th>\n",
       "      <td>NaN</td>\n",
       "      <td>2002-12-31 00:00:00</td>\n",
       "      <td>2018-10-30 00:00:00</td>\n",
       "      <td>NaN</td>\n",
       "      <td>NaN</td>\n",
       "      <td>NaN</td>\n",
       "      <td>NaN</td>\n",
       "      <td>NaN</td>\n",
       "      <td>NaN</td>\n",
       "      <td>NaN</td>\n",
       "      <td>...</td>\n",
       "      <td>NaN</td>\n",
       "      <td>NaN</td>\n",
       "      <td>NaN</td>\n",
       "      <td>NaN</td>\n",
       "      <td>NaN</td>\n",
       "      <td>NaN</td>\n",
       "      <td>NaN</td>\n",
       "      <td>NaN</td>\n",
       "      <td>NaN</td>\n",
       "      <td>NaN</td>\n",
       "    </tr>\n",
       "    <tr>\n",
       "      <th>mean</th>\n",
       "      <td>NaN</td>\n",
       "      <td>NaN</td>\n",
       "      <td>NaN</td>\n",
       "      <td>NaN</td>\n",
       "      <td>NaN</td>\n",
       "      <td>NaN</td>\n",
       "      <td>NaN</td>\n",
       "      <td>5.831486</td>\n",
       "      <td>NaN</td>\n",
       "      <td>NaN</td>\n",
       "      <td>...</td>\n",
       "      <td>NaN</td>\n",
       "      <td>NaN</td>\n",
       "      <td>NaN</td>\n",
       "      <td>NaN</td>\n",
       "      <td>NaN</td>\n",
       "      <td>NaN</td>\n",
       "      <td>NaN</td>\n",
       "      <td>5357 days 12:39:54.678492</td>\n",
       "      <td>NaN</td>\n",
       "      <td>2000.776053</td>\n",
       "    </tr>\n",
       "    <tr>\n",
       "      <th>std</th>\n",
       "      <td>NaN</td>\n",
       "      <td>NaN</td>\n",
       "      <td>NaN</td>\n",
       "      <td>NaN</td>\n",
       "      <td>NaN</td>\n",
       "      <td>NaN</td>\n",
       "      <td>NaN</td>\n",
       "      <td>2.340149</td>\n",
       "      <td>NaN</td>\n",
       "      <td>NaN</td>\n",
       "      <td>...</td>\n",
       "      <td>NaN</td>\n",
       "      <td>NaN</td>\n",
       "      <td>NaN</td>\n",
       "      <td>NaN</td>\n",
       "      <td>NaN</td>\n",
       "      <td>NaN</td>\n",
       "      <td>NaN</td>\n",
       "      <td>1493 days 14:23:41.386407</td>\n",
       "      <td>NaN</td>\n",
       "      <td>1.139572</td>\n",
       "    </tr>\n",
       "    <tr>\n",
       "      <th>min</th>\n",
       "      <td>NaN</td>\n",
       "      <td>NaN</td>\n",
       "      <td>NaN</td>\n",
       "      <td>NaN</td>\n",
       "      <td>NaN</td>\n",
       "      <td>NaN</td>\n",
       "      <td>NaN</td>\n",
       "      <td>1.200000</td>\n",
       "      <td>NaN</td>\n",
       "      <td>NaN</td>\n",
       "      <td>...</td>\n",
       "      <td>NaN</td>\n",
       "      <td>NaN</td>\n",
       "      <td>NaN</td>\n",
       "      <td>NaN</td>\n",
       "      <td>NaN</td>\n",
       "      <td>NaN</td>\n",
       "      <td>NaN</td>\n",
       "      <td>2075 days 00:00:00</td>\n",
       "      <td>NaN</td>\n",
       "      <td>1999.000000</td>\n",
       "    </tr>\n",
       "    <tr>\n",
       "      <th>25%</th>\n",
       "      <td>NaN</td>\n",
       "      <td>NaN</td>\n",
       "      <td>NaN</td>\n",
       "      <td>NaN</td>\n",
       "      <td>NaN</td>\n",
       "      <td>NaN</td>\n",
       "      <td>NaN</td>\n",
       "      <td>4.600000</td>\n",
       "      <td>NaN</td>\n",
       "      <td>NaN</td>\n",
       "      <td>...</td>\n",
       "      <td>NaN</td>\n",
       "      <td>NaN</td>\n",
       "      <td>NaN</td>\n",
       "      <td>NaN</td>\n",
       "      <td>NaN</td>\n",
       "      <td>NaN</td>\n",
       "      <td>NaN</td>\n",
       "      <td>5225 days 00:00:00</td>\n",
       "      <td>NaN</td>\n",
       "      <td>2000.000000</td>\n",
       "    </tr>\n",
       "    <tr>\n",
       "      <th>50%</th>\n",
       "      <td>NaN</td>\n",
       "      <td>NaN</td>\n",
       "      <td>NaN</td>\n",
       "      <td>NaN</td>\n",
       "      <td>NaN</td>\n",
       "      <td>NaN</td>\n",
       "      <td>NaN</td>\n",
       "      <td>5.000000</td>\n",
       "      <td>NaN</td>\n",
       "      <td>NaN</td>\n",
       "      <td>...</td>\n",
       "      <td>NaN</td>\n",
       "      <td>NaN</td>\n",
       "      <td>NaN</td>\n",
       "      <td>NaN</td>\n",
       "      <td>NaN</td>\n",
       "      <td>NaN</td>\n",
       "      <td>NaN</td>\n",
       "      <td>5862 days 00:00:00</td>\n",
       "      <td>NaN</td>\n",
       "      <td>2001.000000</td>\n",
       "    </tr>\n",
       "    <tr>\n",
       "      <th>75%</th>\n",
       "      <td>NaN</td>\n",
       "      <td>NaN</td>\n",
       "      <td>NaN</td>\n",
       "      <td>NaN</td>\n",
       "      <td>NaN</td>\n",
       "      <td>NaN</td>\n",
       "      <td>NaN</td>\n",
       "      <td>7.500000</td>\n",
       "      <td>NaN</td>\n",
       "      <td>NaN</td>\n",
       "      <td>...</td>\n",
       "      <td>NaN</td>\n",
       "      <td>NaN</td>\n",
       "      <td>NaN</td>\n",
       "      <td>NaN</td>\n",
       "      <td>NaN</td>\n",
       "      <td>NaN</td>\n",
       "      <td>NaN</td>\n",
       "      <td>6294 days 00:00:00</td>\n",
       "      <td>NaN</td>\n",
       "      <td>2002.000000</td>\n",
       "    </tr>\n",
       "    <tr>\n",
       "      <th>max</th>\n",
       "      <td>NaN</td>\n",
       "      <td>NaN</td>\n",
       "      <td>NaN</td>\n",
       "      <td>NaN</td>\n",
       "      <td>NaN</td>\n",
       "      <td>NaN</td>\n",
       "      <td>NaN</td>\n",
       "      <td>10.000000</td>\n",
       "      <td>NaN</td>\n",
       "      <td>NaN</td>\n",
       "      <td>...</td>\n",
       "      <td>NaN</td>\n",
       "      <td>NaN</td>\n",
       "      <td>NaN</td>\n",
       "      <td>NaN</td>\n",
       "      <td>NaN</td>\n",
       "      <td>NaN</td>\n",
       "      <td>NaN</td>\n",
       "      <td>7236 days 00:00:00</td>\n",
       "      <td>NaN</td>\n",
       "      <td>2002.000000</td>\n",
       "    </tr>\n",
       "  </tbody>\n",
       "</table>\n",
       "<p>13 rows × 21 columns</p>\n",
       "</div>"
      ],
      "text/plain": [
       "        CVE ID Number         Publish Date          Update Date Software Type  \\\n",
       "count             451                  451                  451           451   \n",
       "unique            412                  180                   21             2   \n",
       "top     CVE-2002-2185  2002-12-31 00:00:00  2018-10-12 00:00:00            OS   \n",
       "freq                3                   34                  109           422   \n",
       "first             NaN  1999-01-01 00:00:00  2008-09-05 00:00:00           NaN   \n",
       "last              NaN  2002-12-31 00:00:00  2018-10-30 00:00:00           NaN   \n",
       "mean              NaN                  NaN                  NaN           NaN   \n",
       "std               NaN                  NaN                  NaN           NaN   \n",
       "min               NaN                  NaN                  NaN           NaN   \n",
       "25%               NaN                  NaN                  NaN           NaN   \n",
       "50%               NaN                  NaN                  NaN           NaN   \n",
       "75%               NaN                  NaN                  NaN           NaN   \n",
       "max               NaN                  NaN                  NaN           NaN   \n",
       "\n",
       "           Vendor Product Version  CVSS Score Confidentiality Impact  \\\n",
       "count         451     451     315  451.000000                    451   \n",
       "unique         30      39      79         NaN                      3   \n",
       "top     Microsoft   Sunos     5.8         NaN                Partial   \n",
       "freq          175      89      39         NaN                    177   \n",
       "first         NaN     NaN     NaN         NaN                    NaN   \n",
       "last          NaN     NaN     NaN         NaN                    NaN   \n",
       "mean          NaN     NaN     NaN    5.831486                    NaN   \n",
       "std           NaN     NaN     NaN    2.340149                    NaN   \n",
       "min           NaN     NaN     NaN    1.200000                    NaN   \n",
       "25%           NaN     NaN     NaN    4.600000                    NaN   \n",
       "50%           NaN     NaN     NaN    5.000000                    NaN   \n",
       "75%           NaN     NaN     NaN    7.500000                    NaN   \n",
       "max           NaN     NaN     NaN   10.000000                    NaN   \n",
       "\n",
       "       Integrity Impact     ...      Access Complexity Authentication  \\\n",
       "count               451     ...                    451            451   \n",
       "unique                3     ...                      3              1   \n",
       "top             Partial     ...                    Low   Not required   \n",
       "freq                162     ...                    434            451   \n",
       "first               NaN     ...                    NaN            NaN   \n",
       "last                NaN     ...                    NaN            NaN   \n",
       "mean                NaN     ...                    NaN            NaN   \n",
       "std                 NaN     ...                    NaN            NaN   \n",
       "min                 NaN     ...                    NaN            NaN   \n",
       "25%                 NaN     ...                    NaN            NaN   \n",
       "50%                 NaN     ...                    NaN            NaN   \n",
       "75%                 NaN     ...                    NaN            NaN   \n",
       "max                 NaN     ...                    NaN            NaN   \n",
       "\n",
       "       Gained Access Vulnerability Type  \\\n",
       "count            451                300   \n",
       "unique             3                 19   \n",
       "top             None  Denial Of Service   \n",
       "freq             245                 98   \n",
       "first            NaN                NaN   \n",
       "last             NaN                NaN   \n",
       "mean             NaN                NaN   \n",
       "std              NaN                NaN   \n",
       "min              NaN                NaN   \n",
       "25%              NaN                NaN   \n",
       "50%              NaN                NaN   \n",
       "75%              NaN                NaN   \n",
       "max              NaN                NaN   \n",
       "\n",
       "                                             Summary Text          filename  \\\n",
       "count                                                 451               451   \n",
       "unique                                                412                24   \n",
       "top     \\tThe Internet Group Management Protocol (IGMP...  2001_107_26.xlsx   \n",
       "freq                                                    3                43   \n",
       "first                                                 NaN               NaN   \n",
       "last                                                  NaN               NaN   \n",
       "mean                                                  NaN               NaN   \n",
       "std                                                   NaN               NaN   \n",
       "min                                                   NaN               NaN   \n",
       "25%                                                   NaN               NaN   \n",
       "50%                                                   NaN               NaN   \n",
       "75%                                                   NaN               NaN   \n",
       "max                                                   NaN               NaN   \n",
       "\n",
       "       product_vender                       days score level         year  \n",
       "count             451                        451         451   451.000000  \n",
       "unique              8                        NaN           3          NaN  \n",
       "top            107_26                        NaN        high          NaN  \n",
       "freq              133                        NaN         206          NaN  \n",
       "first             NaN                        NaN         NaN          NaN  \n",
       "last              NaN                        NaN         NaN          NaN  \n",
       "mean              NaN  5357 days 12:39:54.678492         NaN  2000.776053  \n",
       "std               NaN  1493 days 14:23:41.386407         NaN     1.139572  \n",
       "min               NaN         2075 days 00:00:00         NaN  1999.000000  \n",
       "25%               NaN         5225 days 00:00:00         NaN  2000.000000  \n",
       "50%               NaN         5862 days 00:00:00         NaN  2001.000000  \n",
       "75%               NaN         6294 days 00:00:00         NaN  2002.000000  \n",
       "max               NaN         7236 days 00:00:00         NaN  2002.000000  \n",
       "\n",
       "[13 rows x 21 columns]"
      ]
     },
     "execution_count": 8,
     "metadata": {},
     "output_type": "execute_result"
    }
   ],
   "source": [
    "# summary statistics of character column \n",
    "df.describe(include='all')"
   ]
  },
  {
   "cell_type": "code",
   "execution_count": 9,
   "metadata": {
    "collapsed": false
   },
   "outputs": [
    {
     "data": {
      "text/plain": [
       "count      451\n",
       "unique       3\n",
       "top       high\n",
       "freq       206\n",
       "Name: score level, dtype: object"
      ]
     },
     "execution_count": 9,
     "metadata": {},
     "output_type": "execute_result"
    }
   ],
   "source": [
    "df['score level'].describe()"
   ]
  },
  {
   "cell_type": "code",
   "execution_count": 10,
   "metadata": {
    "collapsed": false
   },
   "outputs": [
    {
     "data": {
      "text/plain": [
       "count                          451\n",
       "mean     5357 days 12:39:54.678492\n",
       "std      1493 days 14:23:41.386407\n",
       "min             2075 days 00:00:00\n",
       "25%             5225 days 00:00:00\n",
       "50%             5862 days 00:00:00\n",
       "75%             6294 days 00:00:00\n",
       "max             7236 days 00:00:00\n",
       "Name: days, dtype: object"
      ]
     },
     "execution_count": 10,
     "metadata": {},
     "output_type": "execute_result"
    }
   ],
   "source": [
    "df['days'].describe()"
   ]
  },
  {
   "cell_type": "code",
   "execution_count": 12,
   "metadata": {
    "collapsed": false
   },
   "outputs": [
    {
     "data": {
      "text/plain": [
       "count    451.000000\n",
       "mean       5.831486\n",
       "std        2.340149\n",
       "min        1.200000\n",
       "25%        4.600000\n",
       "50%        5.000000\n",
       "75%        7.500000\n",
       "max       10.000000\n",
       "Name: CVSS Score, dtype: float64"
      ]
     },
     "execution_count": 12,
     "metadata": {},
     "output_type": "execute_result"
    }
   ],
   "source": [
    "df['CVSS Score'].describe()"
   ]
  },
  {
   "cell_type": "markdown",
   "metadata": {},
   "source": [
    "## Plots"
   ]
  },
  {
   "cell_type": "code",
   "execution_count": 13,
   "metadata": {
    "collapsed": false
   },
   "outputs": [
    {
     "data": {
      "text/plain": [
       "<matplotlib.axes._subplots.AxesSubplot at 0x124943eb8>"
      ]
     },
     "execution_count": 13,
     "metadata": {},
     "output_type": "execute_result"
    },
    {
     "data": {
      "image/png": "[encoded data removed]",
      "text/plain": [
       "<matplotlib.figure.Figure at 0x1249435c0>"
      ]
     },
     "metadata": {},
     "output_type": "display_data"
    }
   ],
   "source": [
    "df.plot(kind='scatter',x='CVSS Score',y='year',color='red')"
   ]
  },
  {
   "cell_type": "code",
   "execution_count": 14,
   "metadata": {
    "collapsed": false
   },
   "outputs": [
    {
     "ename": "KeyError",
     "evalue": "'days'",
     "output_type": "error",
     "traceback": [
      "\u001b[0;31m---------------------------------------------------------------------------\u001b[0m",
      "\u001b[0;31mKeyError\u001b[0m                                  Traceback (most recent call last)",
      "\u001b[0;32m<ipython-input-14-015de6163e72>\u001b[0m in \u001b[0;36m<module>\u001b[0;34m()\u001b[0m\n\u001b[0;32m----> 1\u001b[0;31m \u001b[0mdf\u001b[0m\u001b[0;34m.\u001b[0m\u001b[0mplot\u001b[0m\u001b[0;34m(\u001b[0m\u001b[0mkind\u001b[0m\u001b[0;34m=\u001b[0m\u001b[0;34m'scatter'\u001b[0m\u001b[0;34m,\u001b[0m\u001b[0mx\u001b[0m\u001b[0;34m=\u001b[0m\u001b[0;34m'year'\u001b[0m\u001b[0;34m,\u001b[0m\u001b[0my\u001b[0m\u001b[0;34m=\u001b[0m\u001b[0;34m'days'\u001b[0m\u001b[0;34m,\u001b[0m\u001b[0mcolor\u001b[0m\u001b[0;34m=\u001b[0m\u001b[0;34m'red'\u001b[0m\u001b[0;34m)\u001b[0m\u001b[0;34m\u001b[0m\u001b[0m\n\u001b[0m",
      "\u001b[0;32m/Users/a1/anaconda/lib/python3.5/site-packages/pandas/tools/plotting.py\u001b[0m in \u001b[0;36m__call__\u001b[0;34m(self, x, y, kind, ax, subplots, sharex, sharey, layout, figsize, use_index, title, grid, legend, style, logx, logy, loglog, xticks, yticks, xlim, ylim, rot, fontsize, colormap, table, yerr, xerr, secondary_y, sort_columns, **kwds)\u001b[0m\n\u001b[1;32m   3669\u001b[0m                           \u001b[0mfontsize\u001b[0m\u001b[0;34m=\u001b[0m\u001b[0mfontsize\u001b[0m\u001b[0;34m,\u001b[0m \u001b[0mcolormap\u001b[0m\u001b[0;34m=\u001b[0m\u001b[0mcolormap\u001b[0m\u001b[0;34m,\u001b[0m \u001b[0mtable\u001b[0m\u001b[0;34m=\u001b[0m\u001b[0mtable\u001b[0m\u001b[0;34m,\u001b[0m\u001b[0;34m\u001b[0m\u001b[0m\n\u001b[1;32m   3670\u001b[0m                           \u001b[0myerr\u001b[0m\u001b[0;34m=\u001b[0m\u001b[0myerr\u001b[0m\u001b[0;34m,\u001b[0m \u001b[0mxerr\u001b[0m\u001b[0;34m=\u001b[0m\u001b[0mxerr\u001b[0m\u001b[0;34m,\u001b[0m \u001b[0msecondary_y\u001b[0m\u001b[0;34m=\u001b[0m\u001b[0msecondary_y\u001b[0m\u001b[0;34m,\u001b[0m\u001b[0;34m\u001b[0m\u001b[0m\n\u001b[0;32m-> 3671\u001b[0;31m                           sort_columns=sort_columns, **kwds)\n\u001b[0m\u001b[1;32m   3672\u001b[0m     \u001b[0m__call__\u001b[0m\u001b[0;34m.\u001b[0m\u001b[0m__doc__\u001b[0m \u001b[0;34m=\u001b[0m \u001b[0mplot_frame\u001b[0m\u001b[0;34m.\u001b[0m\u001b[0m__doc__\u001b[0m\u001b[0;34m\u001b[0m\u001b[0m\n\u001b[1;32m   3673\u001b[0m \u001b[0;34m\u001b[0m\u001b[0m\n",
      "\u001b[0;32m/Users/a1/anaconda/lib/python3.5/site-packages/pandas/tools/plotting.py\u001b[0m in \u001b[0;36mplot_frame\u001b[0;34m(data, x, y, kind, ax, subplots, sharex, sharey, layout, figsize, use_index, title, grid, legend, style, logx, logy, loglog, xticks, yticks, xlim, ylim, rot, fontsize, colormap, table, yerr, xerr, secondary_y, sort_columns, **kwds)\u001b[0m\n\u001b[1;32m   2554\u001b[0m                  \u001b[0myerr\u001b[0m\u001b[0;34m=\u001b[0m\u001b[0myerr\u001b[0m\u001b[0;34m,\u001b[0m \u001b[0mxerr\u001b[0m\u001b[0;34m=\u001b[0m\u001b[0mxerr\u001b[0m\u001b[0;34m,\u001b[0m\u001b[0;34m\u001b[0m\u001b[0m\n\u001b[1;32m   2555\u001b[0m                  \u001b[0msecondary_y\u001b[0m\u001b[0;34m=\u001b[0m\u001b[0msecondary_y\u001b[0m\u001b[0;34m,\u001b[0m \u001b[0msort_columns\u001b[0m\u001b[0;34m=\u001b[0m\u001b[0msort_columns\u001b[0m\u001b[0;34m,\u001b[0m\u001b[0;34m\u001b[0m\u001b[0m\n\u001b[0;32m-> 2556\u001b[0;31m                  **kwds)\n\u001b[0m\u001b[1;32m   2557\u001b[0m \u001b[0;34m\u001b[0m\u001b[0m\n\u001b[1;32m   2558\u001b[0m \u001b[0;34m\u001b[0m\u001b[0m\n",
      "\u001b[0;32m/Users/a1/anaconda/lib/python3.5/site-packages/pandas/tools/plotting.py\u001b[0m in \u001b[0;36m_plot\u001b[0;34m(data, x, y, subplots, ax, kind, **kwds)\u001b[0m\n\u001b[1;32m   2382\u001b[0m         \u001b[0mplot_obj\u001b[0m \u001b[0;34m=\u001b[0m \u001b[0mklass\u001b[0m\u001b[0;34m(\u001b[0m\u001b[0mdata\u001b[0m\u001b[0;34m,\u001b[0m \u001b[0msubplots\u001b[0m\u001b[0;34m=\u001b[0m\u001b[0msubplots\u001b[0m\u001b[0;34m,\u001b[0m \u001b[0max\u001b[0m\u001b[0;34m=\u001b[0m\u001b[0max\u001b[0m\u001b[0;34m,\u001b[0m \u001b[0mkind\u001b[0m\u001b[0;34m=\u001b[0m\u001b[0mkind\u001b[0m\u001b[0;34m,\u001b[0m \u001b[0;34m**\u001b[0m\u001b[0mkwds\u001b[0m\u001b[0;34m)\u001b[0m\u001b[0;34m\u001b[0m\u001b[0m\n\u001b[1;32m   2383\u001b[0m \u001b[0;34m\u001b[0m\u001b[0m\n\u001b[0;32m-> 2384\u001b[0;31m     \u001b[0mplot_obj\u001b[0m\u001b[0;34m.\u001b[0m\u001b[0mgenerate\u001b[0m\u001b[0;34m(\u001b[0m\u001b[0;34m)\u001b[0m\u001b[0;34m\u001b[0m\u001b[0m\n\u001b[0m\u001b[1;32m   2385\u001b[0m     \u001b[0mplot_obj\u001b[0m\u001b[0;34m.\u001b[0m\u001b[0mdraw\u001b[0m\u001b[0;34m(\u001b[0m\u001b[0;34m)\u001b[0m\u001b[0;34m\u001b[0m\u001b[0m\n\u001b[1;32m   2386\u001b[0m     \u001b[0;32mreturn\u001b[0m \u001b[0mplot_obj\u001b[0m\u001b[0;34m.\u001b[0m\u001b[0mresult\u001b[0m\u001b[0;34m\u001b[0m\u001b[0m\n",
      "\u001b[0;32m/Users/a1/anaconda/lib/python3.5/site-packages/pandas/tools/plotting.py\u001b[0m in \u001b[0;36mgenerate\u001b[0;34m(self)\u001b[0m\n\u001b[1;32m    985\u001b[0m         \u001b[0mself\u001b[0m\u001b[0;34m.\u001b[0m\u001b[0m_compute_plot_data\u001b[0m\u001b[0;34m(\u001b[0m\u001b[0;34m)\u001b[0m\u001b[0;34m\u001b[0m\u001b[0m\n\u001b[1;32m    986\u001b[0m         \u001b[0mself\u001b[0m\u001b[0;34m.\u001b[0m\u001b[0m_setup_subplots\u001b[0m\u001b[0;34m(\u001b[0m\u001b[0;34m)\u001b[0m\u001b[0;34m\u001b[0m\u001b[0m\n\u001b[0;32m--> 987\u001b[0;31m         \u001b[0mself\u001b[0m\u001b[0;34m.\u001b[0m\u001b[0m_make_plot\u001b[0m\u001b[0;34m(\u001b[0m\u001b[0;34m)\u001b[0m\u001b[0;34m\u001b[0m\u001b[0m\n\u001b[0m\u001b[1;32m    988\u001b[0m         \u001b[0mself\u001b[0m\u001b[0;34m.\u001b[0m\u001b[0m_add_table\u001b[0m\u001b[0;34m(\u001b[0m\u001b[0;34m)\u001b[0m\u001b[0;34m\u001b[0m\u001b[0m\n\u001b[1;32m    989\u001b[0m         \u001b[0mself\u001b[0m\u001b[0;34m.\u001b[0m\u001b[0m_make_legend\u001b[0m\u001b[0;34m(\u001b[0m\u001b[0;34m)\u001b[0m\u001b[0;34m\u001b[0m\u001b[0m\n",
      "\u001b[0;32m/Users/a1/anaconda/lib/python3.5/site-packages/pandas/tools/plotting.py\u001b[0m in \u001b[0;36m_make_plot\u001b[0;34m(self)\u001b[0m\n\u001b[1;32m   1556\u001b[0m         \u001b[0;32melse\u001b[0m\u001b[0;34m:\u001b[0m\u001b[0;34m\u001b[0m\u001b[0m\n\u001b[1;32m   1557\u001b[0m             \u001b[0mlabel\u001b[0m \u001b[0;34m=\u001b[0m \u001b[0;32mNone\u001b[0m\u001b[0;34m\u001b[0m\u001b[0m\n\u001b[0;32m-> 1558\u001b[0;31m         scatter = ax.scatter(data[x].values, data[y].values, c=c_values,\n\u001b[0m\u001b[1;32m   1559\u001b[0m                              label=label, cmap=cmap, **self.kwds)\n\u001b[1;32m   1560\u001b[0m         \u001b[0;32mif\u001b[0m \u001b[0mcb\u001b[0m\u001b[0;34m:\u001b[0m\u001b[0;34m\u001b[0m\u001b[0m\n",
      "\u001b[0;32m/Users/a1/anaconda/lib/python3.5/site-packages/pandas/core/frame.py\u001b[0m in \u001b[0;36m__getitem__\u001b[0;34m(self, key)\u001b[0m\n\u001b[1;32m   1967\u001b[0m             \u001b[0;32mreturn\u001b[0m \u001b[0mself\u001b[0m\u001b[0;34m.\u001b[0m\u001b[0m_getitem_multilevel\u001b[0m\u001b[0;34m(\u001b[0m\u001b[0mkey\u001b[0m\u001b[0;34m)\u001b[0m\u001b[0;34m\u001b[0m\u001b[0m\n\u001b[1;32m   1968\u001b[0m         \u001b[0;32melse\u001b[0m\u001b[0;34m:\u001b[0m\u001b[0;34m\u001b[0m\u001b[0m\n\u001b[0;32m-> 1969\u001b[0;31m             \u001b[0;32mreturn\u001b[0m \u001b[0mself\u001b[0m\u001b[0;34m.\u001b[0m\u001b[0m_getitem_column\u001b[0m\u001b[0;34m(\u001b[0m\u001b[0mkey\u001b[0m\u001b[0;34m)\u001b[0m\u001b[0;34m\u001b[0m\u001b[0m\n\u001b[0m\u001b[1;32m   1970\u001b[0m \u001b[0;34m\u001b[0m\u001b[0m\n\u001b[1;32m   1971\u001b[0m     \u001b[0;32mdef\u001b[0m \u001b[0m_getitem_column\u001b[0m\u001b[0;34m(\u001b[0m\u001b[0mself\u001b[0m\u001b[0;34m,\u001b[0m \u001b[0mkey\u001b[0m\u001b[0;34m)\u001b[0m\u001b[0;34m:\u001b[0m\u001b[0;34m\u001b[0m\u001b[0m\n",
      "\u001b[0;32m/Users/a1/anaconda/lib/python3.5/site-packages/pandas/core/frame.py\u001b[0m in \u001b[0;36m_getitem_column\u001b[0;34m(self, key)\u001b[0m\n\u001b[1;32m   1974\u001b[0m         \u001b[0;31m# get column\u001b[0m\u001b[0;34m\u001b[0m\u001b[0;34m\u001b[0m\u001b[0m\n\u001b[1;32m   1975\u001b[0m         \u001b[0;32mif\u001b[0m \u001b[0mself\u001b[0m\u001b[0;34m.\u001b[0m\u001b[0mcolumns\u001b[0m\u001b[0;34m.\u001b[0m\u001b[0mis_unique\u001b[0m\u001b[0;34m:\u001b[0m\u001b[0;34m\u001b[0m\u001b[0m\n\u001b[0;32m-> 1976\u001b[0;31m             \u001b[0;32mreturn\u001b[0m \u001b[0mself\u001b[0m\u001b[0;34m.\u001b[0m\u001b[0m_get_item_cache\u001b[0m\u001b[0;34m(\u001b[0m\u001b[0mkey\u001b[0m\u001b[0;34m)\u001b[0m\u001b[0;34m\u001b[0m\u001b[0m\n\u001b[0m\u001b[1;32m   1977\u001b[0m \u001b[0;34m\u001b[0m\u001b[0m\n\u001b[1;32m   1978\u001b[0m         \u001b[0;31m# duplicate columns & possible reduce dimensionality\u001b[0m\u001b[0;34m\u001b[0m\u001b[0;34m\u001b[0m\u001b[0m\n",
      "\u001b[0;32m/Users/a1/anaconda/lib/python3.5/site-packages/pandas/core/generic.py\u001b[0m in \u001b[0;36m_get_item_cache\u001b[0;34m(self, item)\u001b[0m\n\u001b[1;32m   1089\u001b[0m         \u001b[0mres\u001b[0m \u001b[0;34m=\u001b[0m \u001b[0mcache\u001b[0m\u001b[0;34m.\u001b[0m\u001b[0mget\u001b[0m\u001b[0;34m(\u001b[0m\u001b[0mitem\u001b[0m\u001b[0;34m)\u001b[0m\u001b[0;34m\u001b[0m\u001b[0m\n\u001b[1;32m   1090\u001b[0m         \u001b[0;32mif\u001b[0m \u001b[0mres\u001b[0m \u001b[0;32mis\u001b[0m \u001b[0;32mNone\u001b[0m\u001b[0;34m:\u001b[0m\u001b[0;34m\u001b[0m\u001b[0m\n\u001b[0;32m-> 1091\u001b[0;31m             \u001b[0mvalues\u001b[0m \u001b[0;34m=\u001b[0m \u001b[0mself\u001b[0m\u001b[0;34m.\u001b[0m\u001b[0m_data\u001b[0m\u001b[0;34m.\u001b[0m\u001b[0mget\u001b[0m\u001b[0;34m(\u001b[0m\u001b[0mitem\u001b[0m\u001b[0;34m)\u001b[0m\u001b[0;34m\u001b[0m\u001b[0m\n\u001b[0m\u001b[1;32m   1092\u001b[0m             \u001b[0mres\u001b[0m \u001b[0;34m=\u001b[0m \u001b[0mself\u001b[0m\u001b[0;34m.\u001b[0m\u001b[0m_box_item_values\u001b[0m\u001b[0;34m(\u001b[0m\u001b[0mitem\u001b[0m\u001b[0;34m,\u001b[0m \u001b[0mvalues\u001b[0m\u001b[0;34m)\u001b[0m\u001b[0;34m\u001b[0m\u001b[0m\n\u001b[1;32m   1093\u001b[0m             \u001b[0mcache\u001b[0m\u001b[0;34m[\u001b[0m\u001b[0mitem\u001b[0m\u001b[0;34m]\u001b[0m \u001b[0;34m=\u001b[0m \u001b[0mres\u001b[0m\u001b[0;34m\u001b[0m\u001b[0m\n",
      "\u001b[0;32m/Users/a1/anaconda/lib/python3.5/site-packages/pandas/core/internals.py\u001b[0m in \u001b[0;36mget\u001b[0;34m(self, item, fastpath)\u001b[0m\n\u001b[1;32m   3209\u001b[0m \u001b[0;34m\u001b[0m\u001b[0m\n\u001b[1;32m   3210\u001b[0m             \u001b[0;32mif\u001b[0m \u001b[0;32mnot\u001b[0m \u001b[0misnull\u001b[0m\u001b[0;34m(\u001b[0m\u001b[0mitem\u001b[0m\u001b[0;34m)\u001b[0m\u001b[0;34m:\u001b[0m\u001b[0;34m\u001b[0m\u001b[0m\n\u001b[0;32m-> 3211\u001b[0;31m                 \u001b[0mloc\u001b[0m \u001b[0;34m=\u001b[0m \u001b[0mself\u001b[0m\u001b[0;34m.\u001b[0m\u001b[0mitems\u001b[0m\u001b[0;34m.\u001b[0m\u001b[0mget_loc\u001b[0m\u001b[0;34m(\u001b[0m\u001b[0mitem\u001b[0m\u001b[0;34m)\u001b[0m\u001b[0;34m\u001b[0m\u001b[0m\n\u001b[0m\u001b[1;32m   3212\u001b[0m             \u001b[0;32melse\u001b[0m\u001b[0;34m:\u001b[0m\u001b[0;34m\u001b[0m\u001b[0m\n\u001b[1;32m   3213\u001b[0m                 \u001b[0mindexer\u001b[0m \u001b[0;34m=\u001b[0m \u001b[0mnp\u001b[0m\u001b[0;34m.\u001b[0m\u001b[0marange\u001b[0m\u001b[0;34m(\u001b[0m\u001b[0mlen\u001b[0m\u001b[0;34m(\u001b[0m\u001b[0mself\u001b[0m\u001b[0;34m.\u001b[0m\u001b[0mitems\u001b[0m\u001b[0;34m)\u001b[0m\u001b[0;34m)\u001b[0m\u001b[0;34m[\u001b[0m\u001b[0misnull\u001b[0m\u001b[0;34m(\u001b[0m\u001b[0mself\u001b[0m\u001b[0;34m.\u001b[0m\u001b[0mitems\u001b[0m\u001b[0;34m)\u001b[0m\u001b[0;34m]\u001b[0m\u001b[0;34m\u001b[0m\u001b[0m\n",
      "\u001b[0;32m/Users/a1/anaconda/lib/python3.5/site-packages/pandas/core/index.py\u001b[0m in \u001b[0;36mget_loc\u001b[0;34m(self, key, method, tolerance)\u001b[0m\n\u001b[1;32m   1757\u001b[0m                                  'backfill or nearest lookups')\n\u001b[1;32m   1758\u001b[0m             \u001b[0mkey\u001b[0m \u001b[0;34m=\u001b[0m \u001b[0m_values_from_object\u001b[0m\u001b[0;34m(\u001b[0m\u001b[0mkey\u001b[0m\u001b[0;34m)\u001b[0m\u001b[0;34m\u001b[0m\u001b[0m\n\u001b[0;32m-> 1759\u001b[0;31m             \u001b[0;32mreturn\u001b[0m \u001b[0mself\u001b[0m\u001b[0;34m.\u001b[0m\u001b[0m_engine\u001b[0m\u001b[0;34m.\u001b[0m\u001b[0mget_loc\u001b[0m\u001b[0;34m(\u001b[0m\u001b[0mkey\u001b[0m\u001b[0;34m)\u001b[0m\u001b[0;34m\u001b[0m\u001b[0m\n\u001b[0m\u001b[1;32m   1760\u001b[0m \u001b[0;34m\u001b[0m\u001b[0m\n\u001b[1;32m   1761\u001b[0m         indexer = self.get_indexer([key], method=method,\n",
      "\u001b[0;32mpandas/index.pyx\u001b[0m in \u001b[0;36mpandas.index.IndexEngine.get_loc (pandas/index.c:3979)\u001b[0;34m()\u001b[0m\n",
      "\u001b[0;32mpandas/index.pyx\u001b[0m in \u001b[0;36mpandas.index.IndexEngine.get_loc (pandas/index.c:3843)\u001b[0;34m()\u001b[0m\n",
      "\u001b[0;32mpandas/hashtable.pyx\u001b[0m in \u001b[0;36mpandas.hashtable.PyObjectHashTable.get_item (pandas/hashtable.c:12265)\u001b[0;34m()\u001b[0m\n",
      "\u001b[0;32mpandas/hashtable.pyx\u001b[0m in \u001b[0;36mpandas.hashtable.PyObjectHashTable.get_item (pandas/hashtable.c:12216)\u001b[0;34m()\u001b[0m\n",
      "\u001b[0;31mKeyError\u001b[0m: 'days'"
     ]
    },
    {
     "data": {
      "image/png": "[encoded data removed]",
      "text/plain": [
       "<matplotlib.figure.Figure at 0x1248e6a58>"
      ]
     },
     "metadata": {},
     "output_type": "display_data"
    }
   ],
   "source": [
    "df.plot(kind='scatter',x='year',y='days',color='red')"
   ]
  },
  {
   "cell_type": "code",
   "execution_count": 15,
   "metadata": {
    "collapsed": false
   },
   "outputs": [
    {
     "data": {
      "text/plain": [
       "<matplotlib.text.Text at 0x125513748>"
      ]
     },
     "execution_count": 15,
     "metadata": {},
     "output_type": "execute_result"
    },
    {
     "data": {
      "image/png": "[encoded data removed]",
      "text/plain": [
       "<matplotlib.figure.Figure at 0x125224e48>"
      ]
     },
     "metadata": {},
     "output_type": "display_data"
    }
   ],
   "source": [
    "df.groupby('Software Type')['Product'].nunique().plot(kind='pie')\n",
    "plt.title('Software Type')"
   ]
  },
  {
   "cell_type": "code",
   "execution_count": 16,
   "metadata": {
    "collapsed": false
   },
   "outputs": [
    {
     "data": {
      "text/plain": [
       "<matplotlib.text.Text at 0x1255aa518>"
      ]
     },
     "execution_count": 16,
     "metadata": {},
     "output_type": "execute_result"
    },
    {
     "data": {
      "image/png": "[encoded data removed]",
      "text/plain": [
       "<matplotlib.figure.Figure at 0x125505f98>"
      ]
     },
     "metadata": {},
     "output_type": "display_data"
    }
   ],
   "source": [
    "df.groupby('score level')['Product'].nunique().plot(kind='bar',color='green')\n",
    "plt.title('score level')"
   ]
  },
  {
   "cell_type": "code",
   "execution_count": 17,
   "metadata": {
    "collapsed": false
   },
   "outputs": [
    {
     "data": {
      "text/plain": [
       "<matplotlib.text.Text at 0x1254465c0>"
      ]
     },
     "execution_count": 17,
     "metadata": {},
     "output_type": "execute_result"
    },
    {
     "data": {
      "image/png": "[encoded data removed]",
      "text/plain": [
       "<matplotlib.figure.Figure at 0x125671940>"
      ]
     },
     "metadata": {},
     "output_type": "display_data"
    }
   ],
   "source": [
    "df['CVSS Score'].hist()\n",
    "plt.title('CVSS Score')"
   ]
  },
  {
   "cell_type": "code",
   "execution_count": 18,
   "metadata": {
    "collapsed": false
   },
   "outputs": [
    {
     "data": {
      "text/plain": [
       "30"
      ]
     },
     "execution_count": 18,
     "metadata": {},
     "output_type": "execute_result"
    }
   ],
   "source": [
    "df['Vendor'].nunique()"
   ]
  },
  {
   "cell_type": "code",
   "execution_count": 19,
   "metadata": {
    "collapsed": false
   },
   "outputs": [
    {
     "data": {
      "text/plain": [
       "array(['Debian', 'Washington University', 'Suse', 'Linux', 'Todd Miller',\n",
       "       'Earl Hood', 'Redhat', 'SGI', 'Paul Kranenburg', 'Apple',\n",
       "       'Microsoft', 'SUN', 'Turbolinux', 'Freebsd', 'Trustix',\n",
       "       'Slackware', 'Sam Lantinga', 'Mandrakesoft', 'Zope', 'Proftpd',\n",
       "       'Progeny', 'University Of Cambridge', 'Immunix', 'John Bovey',\n",
       "       'Oracle', 'Netbsd', 'Easy Software Products', 'Winzip',\n",
       "       'Xi Graphics', 'Xfree86 Project'], dtype=object)"
      ]
     },
     "execution_count": 19,
     "metadata": {},
     "output_type": "execute_result"
    }
   ],
   "source": [
    "#List unique values in the df['Vendo'] column\n",
    "df.Vendor.unique()"
   ]
  },
  {
   "cell_type": "code",
   "execution_count": 20,
   "metadata": {
    "collapsed": false
   },
   "outputs": [
    {
     "data": {
      "text/plain": [
       "<matplotlib.axes._subplots.AxesSubplot at 0x12557dba8>"
      ]
     },
     "execution_count": 20,
     "metadata": {},
     "output_type": "execute_result"
    },
    {
     "data": {
      "image/png": "[encoded data removed]",
      "text/plain": [
       "<matplotlib.figure.Figure at 0x1256d4278>"
      ]
     },
     "metadata": {},
     "output_type": "display_data"
    }
   ],
   "source": [
    "df.groupby('year')['Vendor'].nunique().plot(kind='bar')"
   ]
  },
  {
   "cell_type": "code",
   "execution_count": 21,
   "metadata": {
    "collapsed": false
   },
   "outputs": [
    {
     "data": {
      "text/plain": [
       "<matplotlib.axes._subplots.AxesSubplot at 0x1258cd1d0>"
      ]
     },
     "execution_count": 21,
     "metadata": {},
     "output_type": "execute_result"
    },
    {
     "data": {
      "image/png": "[encoded data removed]",
      "text/plain": [
       "<matplotlib.figure.Figure at 0x1258d5080>"
      ]
     },
     "metadata": {},
     "output_type": "display_data"
    }
   ],
   "source": [
    "df.groupby(['Software Type', 'score level'])['Product'].nunique().unstack().plot(kind='bar',stacked=True)"
   ]
  },
  {
   "cell_type": "code",
   "execution_count": 22,
   "metadata": {
    "collapsed": false
   },
   "outputs": [
    {
     "data": {
      "text/plain": [
       "<matplotlib.text.Text at 0x1259d52b0>"
      ]
     },
     "execution_count": 22,
     "metadata": {},
     "output_type": "execute_result"
    },
    {
     "data": {
      "image/png": "[encoded data removed]",
      "text/plain": [
       "<matplotlib.figure.Figure at 0x125bc9e10>"
      ]
     },
     "metadata": {},
     "output_type": "display_data"
    }
   ],
   "source": [
    "#the distributions, not raw amounts\n",
    "df.groupby(['Software Type','score level'])['year'].nunique().groupby(level=0).apply(\n",
    "    lambda x: 100 * x / x.sum()\n",
    ").unstack().plot(kind='bar',stacked=True)\n",
    "plt.title('Distributions by year')"
   ]
  },
  {
   "cell_type": "code",
   "execution_count": 23,
   "metadata": {
    "collapsed": false
   },
   "outputs": [
    {
     "data": {
      "text/plain": [
       "<matplotlib.text.Text at 0x125cd6470>"
      ]
     },
     "execution_count": 23,
     "metadata": {},
     "output_type": "execute_result"
    },
    {
     "data": {
      "image/png": "[encoded data removed]",
      "text/plain": [
       "<matplotlib.figure.Figure at 0x1259c9cc0>"
      ]
     },
     "metadata": {},
     "output_type": "display_data"
    }
   ],
   "source": [
    "#the distributions, not raw amounts\n",
    "df.groupby(['Software Type','score level'])['Vendor'].nunique().groupby(level=0).apply(\n",
    "    lambda x: 100 * x / x.sum()\n",
    ").unstack().plot(kind='bar',stacked=True)\n",
    "plt.title('Distributions by product')"
   ]
  },
  {
   "cell_type": "code",
   "execution_count": null,
   "metadata": {
    "collapsed": true
   },
   "outputs": [],
   "source": []
  },
  {
   "cell_type": "code",
   "execution_count": null,
   "metadata": {
    "collapsed": true
   },
   "outputs": [],
   "source": []
  }
 ],
 "metadata": {
  "kernelspec": {
   "display_name": "Python 3",
   "language": "python",
   "name": "python3"
  },
  "language_info": {
   "codemirror_mode": {
    "name": "ipython",
    "version": 3
   },
   "file_extension": ".py",
   "mimetype": "text/x-python",
   "name": "python",
   "nbconvert_exporter": "python",
   "pygments_lexer": "ipython3",
   "version": "3.5.2"
  }
 },
 "nbformat": 4,
 "nbformat_minor": 0
}
